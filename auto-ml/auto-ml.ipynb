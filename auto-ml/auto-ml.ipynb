{
 "cells": [
  {
   "cell_type": "markdown",
   "metadata": {},
   "source": [
    "# *[Using AutoML as a start point]*\n",
    "\n",
    "**Author:** [Marco Bertani-Økland](https://github.com/mbertani)\n",
    "\n",
    "**Achievement:** Illustrate the use of AutoML as a starting point to explore different algorithms.\n",
    "\n",
    "## Introduction\n",
    "\n",
    "This notebook is based on [https://supervised.mljar.com/](https://supervised.mljar.com/).\n",
    "\n",
    "Run the notebook and check the results produced under the folder `results_diabetes`. \n",
    "\n",
    "Requirements:\n",
    "\n",
    "1. You must run `make venv` to verify that all packages are installed.\n",
    "2. You must have downloaded the [diabetes dataset](https://www.kaggle.com/datasets/alexteboul/diabetes-health-indicators-dataset) into the folder `NBD_22_workshop`."
   ]
  },
  {
   "cell_type": "markdown",
   "metadata": {},
   "source": [
    "# Reproducibility and code formatting"
   ]
  },
  {
   "cell_type": "code",
   "execution_count": 8,
   "metadata": {},
   "outputs": [
    {
     "name": "stdout",
     "output_type": "stream",
     "text": [
      "The watermark extension is already loaded. To reload it, use:\n",
      "  %reload_ext watermark\n",
      "The lab_black extension is already loaded. To reload it, use:\n",
      "  %reload_ext lab_black\n",
      "The nb_black extension is already loaded. To reload it, use:\n",
      "  %reload_ext nb_black\n",
      "The rich extension is already loaded. To reload it, use:\n",
      "  %reload_ext rich\n"
     ]
    }
   ],
   "source": [
    "# To watermark the environment\n",
    "%load_ext watermark\n",
    "\n",
    "# For automatic code formatting in jupyter lab.\n",
    "%load_ext lab_black\n",
    "\n",
    "# For automatic code formatting in jupyter notebook\n",
    "%load_ext nb_black\n",
    "\n",
    "# For better logging\n",
    "%load_ext rich"
   ]
  },
  {
   "cell_type": "markdown",
   "metadata": {},
   "source": [
    "# Analysis"
   ]
  },
  {
   "cell_type": "code",
   "execution_count": 9,
   "metadata": {},
   "outputs": [],
   "source": [
    "# Imports\n",
    "# -------\n",
    "\n",
    "# System\n",
    "import sys\n",
    "\n",
    "# Logging\n",
    "import logging\n",
    "\n",
    "# Rich logging in jupyter\n",
    "from rich.logging import RichHandler\n",
    "\n",
    "FORMAT = \"%(message)s\"\n",
    "logging.basicConfig(\n",
    "    level=\"INFO\", format=FORMAT, datefmt=\"[%X]\", handlers=[RichHandler()]\n",
    ")\n",
    "\n",
    "log = logging.getLogger(\"rich\")\n",
    "\n",
    "# Nice logging example:\n",
    "# log.error(\"[bold red blink]Server is shutting down![/]\", extra={\"markup\": True})\n",
    "\n",
    "\n",
    "# Other packages\n",
    "import pandas as pd\n",
    "from sklearn.model_selection import train_test_split\n",
    "from supervised.automl import AutoML"
   ]
  },
  {
   "cell_type": "code",
   "execution_count": 10,
   "metadata": {},
   "outputs": [],
   "source": [
    "datapath = \"../NBD_22_workshop/diabetes_binary_5050split_health_indicators_BRFSS2015.csv\"\n",
    "df = pd.read_csv(datapath)"
   ]
  },
  {
   "cell_type": "code",
   "execution_count": 11,
   "metadata": {},
   "outputs": [],
   "source": [
    "target_column = \"Diabetes_binary\"\n",
    "train_columns = list(df.columns)\n",
    "train_columns.remove(target_column)"
   ]
  },
  {
   "cell_type": "code",
   "execution_count": 12,
   "metadata": {},
   "outputs": [
    {
     "name": "stdout",
     "output_type": "stream",
     "text": [
      "Linear algorithm was disabled.\n",
      "This model has already been fitted. You can use predict methods or select a new 'results_path' for a new 'fit()'.\n"
     ]
    },
    {
     "name": "stderr",
     "output_type": "stream",
     "text": [
      "X has feature names, but StandardScaler was fitted without feature names\n"
     ]
    }
   ],
   "source": [
    "target_column = \"Diabetes_binary\"\n",
    "train_columns = list(df.columns)\n",
    "train_columns.remove(target_column)\n",
    "X_train, X_test, y_train, y_test = train_test_split(\n",
    "    df[train_columns], df[target_column], test_size=0.25, random_state=42\n",
    ")\n",
    "\n",
    "automl = AutoML(results_path=\"results_diabetes\")\n",
    "automl.fit(X_train, y_train)\n",
    "\n",
    "predictions = automl.predict(X_test)"
   ]
  },
  {
   "cell_type": "markdown",
   "metadata": {},
   "source": [
    "# Watermark\n",
    "\n",
    "This should be the last section of your notebook, since it watermarks all your environment.\n",
    "\n",
    "When commiting this notebook, remember to restart the kernel, rerun the notebook and run this cell last, to watermark the environment."
   ]
  },
  {
   "cell_type": "code",
   "execution_count": 13,
   "metadata": {},
   "outputs": [
    {
     "name": "stdout",
     "output_type": "stream",
     "text": [
      "Python implementation: CPython\n",
      "Python version       : 3.8.13\n",
      "IPython version      : 8.4.0\n",
      "\n",
      "Compiler    : GCC 10.3.0\n",
      "OS          : Linux\n",
      "Release     : 5.15.0-1017-aws\n",
      "Machine     : x86_64\n",
      "Processor   : x86_64\n",
      "CPU cores   : 4\n",
      "Architecture: 64bit\n",
      "\n",
      "Git hash: 31021eb0e442bc8b52c35efe4f0ac391b65a60f0\n",
      "\n",
      "Git branch: add-automl-example\n",
      "\n",
      "sys    : 3.8.13 | packaged by conda-forge | (default, Mar 25 2022, 06:04:10) \n",
      "[GCC 10.3.0]\n",
      "logging: 0.5.1.2\n",
      "pandas : 1.4.3\n",
      "\n"
     ]
    }
   ],
   "source": [
    "%watermark -gb -iv -m -v"
   ]
  }
 ],
 "metadata": {
  "kernelspec": {
   "display_name": "Python 3.8.13 ('ml_workshop')",
   "language": "python",
   "name": "python3"
  },
  "language_info": {
   "codemirror_mode": {
    "name": "ipython",
    "version": 3
   },
   "file_extension": ".py",
   "mimetype": "text/x-python",
   "name": "python",
   "nbconvert_exporter": "python",
   "pygments_lexer": "ipython3",
   "version": "3.8.13"
  },
  "vscode": {
   "interpreter": {
    "hash": "83996fee1891340ebcb1a1cf7be7ce7ce6b1a094ef5917386a5c7762de75d59e"
   }
  }
 },
 "nbformat": 4,
 "nbformat_minor": 2
}
