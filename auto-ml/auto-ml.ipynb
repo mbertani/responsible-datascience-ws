{
 "cells": [
  {
   "cell_type": "markdown",
   "metadata": {},
   "source": [
    "# *[Using AutoML as a start point]*\n",
    "\n",
    "**Author:** [Marco Bertani-Økland](https://github.com/mbertani)\n",
    "\n",
    "**Achievement:** Illustrate the use of AutoML as a starting point to explore different algorithms.\n",
    "\n",
    "## Introduction\n",
    "\n",
    "This notebook is based on [https://supervised.mljar.com/](https://supervised.mljar.com/).\n",
    "\n",
    "Run the notebook and check the results produced under the folder `results_diabetes`. \n",
    "\n",
    "Requirements:\n",
    "\n",
    "1. You must run `make venv` to verify that all packages are installed.\n",
    "2. You must have downloaded the [diabetes dataset](https://www.kaggle.com/datasets/alexteboul/diabetes-health-indicators-dataset) into the folder `NBD_22_workshop`."
   ]
  },
  {
   "cell_type": "markdown",
   "metadata": {},
   "source": [
    "# Reproducibility and code formatting"
   ]
  },
  {
   "cell_type": "code",
   "execution_count": 1,
   "metadata": {},
   "outputs": [],
   "source": [
    "# To watermark the environment\n",
    "%load_ext watermark\n",
    "\n",
    "# For automatic code formatting in jupyter lab.\n",
    "%load_ext lab_black\n",
    "\n",
    "# For automatic code formatting in jupyter notebook\n",
    "%load_ext nb_black\n",
    "\n",
    "# For better logging\n",
    "%load_ext rich"
   ]
  },
  {
   "cell_type": "markdown",
   "metadata": {},
   "source": [
    "# Analysis"
   ]
  },
  {
   "cell_type": "code",
   "execution_count": 2,
   "metadata": {},
   "outputs": [],
   "source": [
    "# Imports\n",
    "# -------\n",
    "\n",
    "# System\n",
    "import sys\n",
    "\n",
    "# Logging\n",
    "import logging\n",
    "\n",
    "# Rich logging in jupyter\n",
    "from rich.logging import RichHandler\n",
    "\n",
    "FORMAT = \"%(message)s\"\n",
    "logging.basicConfig(\n",
    "    level=\"INFO\", format=FORMAT, datefmt=\"[%X]\", handlers=[RichHandler()]\n",
    ")\n",
    "\n",
    "log = logging.getLogger(\"rich\")\n",
    "\n",
    "# Nice logging example:\n",
    "# log.error(\"[bold red blink]Server is shutting down![/]\", extra={\"markup\": True})\n",
    "\n",
    "\n",
    "# Other packages\n",
    "import pandas as pd\n",
    "from sklearn.model_selection import train_test_split\n",
    "from supervised.automl import AutoML"
   ]
  },
  {
   "cell_type": "code",
   "execution_count": 3,
   "metadata": {},
   "outputs": [],
   "source": [
    "datapath = (\n",
    "    \"../NBD_22_workshop/diabetes_binary_5050split_health_indicators_BRFSS2015.csv\"\n",
    ")\n",
    "df = pd.read_csv(datapath)"
   ]
  },
  {
   "cell_type": "code",
   "execution_count": 4,
   "metadata": {},
   "outputs": [],
   "source": [
    "target_column = \"Diabetes_binary\"\n",
    "train_columns = list(df.columns)\n",
    "train_columns.remove(target_column)"
   ]
  },
  {
   "cell_type": "code",
   "execution_count": 5,
   "metadata": {},
   "outputs": [
    {
     "name": "stdout",
     "output_type": "stream",
     "text": [
      "Linear algorithm was disabled.\n",
      "AutoML directory: results_diabetes\n",
      "The task is binary_classification with evaluation metric logloss\n",
      "AutoML will use algorithms: ['Baseline', 'Decision Tree', 'Random Forest', 'Xgboost', 'Neural Network']\n",
      "AutoML will ensemble available models\n",
      "AutoML steps: ['simple_algorithms', 'default_algorithms', 'ensemble']\n",
      "* Step simple_algorithms will try to check up to 2 models\n",
      "1_Baseline logloss 0.693147 trained in 0.63 seconds\n"
     ]
    },
    {
     "data": {
      "text/html": [
       "<pre style=\"white-space:pre;overflow-x:auto;line-height:normal;font-family:Menlo,'DejaVu Sans Mono',consolas,'Courier New',monospace\"><span style=\"color: #7fbfbf; text-decoration-color: #7fbfbf\">[06:51:42] </span><span style=\"color: #800000; text-decoration-color: #800000\">WARNING </span> findfont: Font family <span style=\"font-weight: bold\">[</span><span style=\"color: #008000; text-decoration-color: #008000\">'Arial'</span><span style=\"font-weight: bold\">]</span> not found. Falling back to DejaVu Sans.    <a href=\"file:///home/ubuntu/miniconda3/envs/ml_workshop/lib/python3.8/site-packages/matplotlib/font_manager.py\" target=\"_blank\"><span style=\"color: #7f7f7f; text-decoration-color: #7f7f7f\">font_manager.py</span></a><span style=\"color: #7f7f7f; text-decoration-color: #7f7f7f\">:</span><a href=\"file:///home/ubuntu/miniconda3/envs/ml_workshop/lib/python3.8/site-packages/matplotlib/font_manager.py#1350\" target=\"_blank\"><span style=\"color: #7f7f7f; text-decoration-color: #7f7f7f\">1350</span></a>\n",
       "</pre>\n"
      ],
      "text/plain": [
       "\u001b[2;36m[06:51:42]\u001b[0m\u001b[2;36m \u001b[0m\u001b[31mWARNING \u001b[0m findfont: Font family \u001b[1m[\u001b[0m\u001b[32m'Arial'\u001b[0m\u001b[1m]\u001b[0m not found. Falling back to DejaVu Sans.    \u001b]8;id=905120;file:///home/ubuntu/miniconda3/envs/ml_workshop/lib/python3.8/site-packages/matplotlib/font_manager.py\u001b\\\u001b[2mfont_manager.py\u001b[0m\u001b]8;;\u001b\\\u001b[2m:\u001b[0m\u001b]8;id=988865;file:///home/ubuntu/miniconda3/envs/ml_workshop/lib/python3.8/site-packages/matplotlib/font_manager.py#1350\u001b\\\u001b[2m1350\u001b[0m\u001b]8;;\u001b\\\n"
      ]
     },
     "metadata": {},
     "output_type": "display_data"
    },
    {
     "data": {
      "text/html": [
       "<pre style=\"white-space:pre;overflow-x:auto;line-height:normal;font-family:Menlo,'DejaVu Sans Mono',consolas,'Courier New',monospace\"><span style=\"color: #7fbfbf; text-decoration-color: #7fbfbf\">[06:51:47] </span><span style=\"color: #800000; text-decoration-color: #800000\">WARNING </span> findfont: Font family <span style=\"font-weight: bold\">[</span><span style=\"color: #008000; text-decoration-color: #008000\">'Arial'</span><span style=\"font-weight: bold\">]</span> not found. Falling back to DejaVu Sans.    <a href=\"file:///home/ubuntu/miniconda3/envs/ml_workshop/lib/python3.8/site-packages/matplotlib/font_manager.py\" target=\"_blank\"><span style=\"color: #7f7f7f; text-decoration-color: #7f7f7f\">font_manager.py</span></a><span style=\"color: #7f7f7f; text-decoration-color: #7f7f7f\">:</span><a href=\"file:///home/ubuntu/miniconda3/envs/ml_workshop/lib/python3.8/site-packages/matplotlib/font_manager.py#1350\" target=\"_blank\"><span style=\"color: #7f7f7f; text-decoration-color: #7f7f7f\">1350</span></a>\n",
       "</pre>\n"
      ],
      "text/plain": [
       "\u001b[2;36m[06:51:47]\u001b[0m\u001b[2;36m \u001b[0m\u001b[31mWARNING \u001b[0m findfont: Font family \u001b[1m[\u001b[0m\u001b[32m'Arial'\u001b[0m\u001b[1m]\u001b[0m not found. Falling back to DejaVu Sans.    \u001b]8;id=533911;file:///home/ubuntu/miniconda3/envs/ml_workshop/lib/python3.8/site-packages/matplotlib/font_manager.py\u001b\\\u001b[2mfont_manager.py\u001b[0m\u001b]8;;\u001b\\\u001b[2m:\u001b[0m\u001b]8;id=627304;file:///home/ubuntu/miniconda3/envs/ml_workshop/lib/python3.8/site-packages/matplotlib/font_manager.py#1350\u001b\\\u001b[2m1350\u001b[0m\u001b]8;;\u001b\\\n"
      ]
     },
     "metadata": {},
     "output_type": "display_data"
    },
    {
     "data": {
      "text/html": [
       "<pre style=\"white-space:pre;overflow-x:auto;line-height:normal;font-family:Menlo,'DejaVu Sans Mono',consolas,'Courier New',monospace\"><span style=\"color: #7fbfbf; text-decoration-color: #7fbfbf\">           </span><span style=\"color: #800000; text-decoration-color: #800000\">WARNING </span> findfont: Font family <span style=\"font-weight: bold\">[</span><span style=\"color: #008000; text-decoration-color: #008000\">'Arial'</span><span style=\"font-weight: bold\">]</span> not found. Falling back to DejaVu Sans.    <a href=\"file:///home/ubuntu/miniconda3/envs/ml_workshop/lib/python3.8/site-packages/matplotlib/font_manager.py\" target=\"_blank\"><span style=\"color: #7f7f7f; text-decoration-color: #7f7f7f\">font_manager.py</span></a><span style=\"color: #7f7f7f; text-decoration-color: #7f7f7f\">:</span><a href=\"file:///home/ubuntu/miniconda3/envs/ml_workshop/lib/python3.8/site-packages/matplotlib/font_manager.py#1350\" target=\"_blank\"><span style=\"color: #7f7f7f; text-decoration-color: #7f7f7f\">1350</span></a>\n",
       "</pre>\n"
      ],
      "text/plain": [
       "\u001b[2;36m          \u001b[0m\u001b[2;36m \u001b[0m\u001b[31mWARNING \u001b[0m findfont: Font family \u001b[1m[\u001b[0m\u001b[32m'Arial'\u001b[0m\u001b[1m]\u001b[0m not found. Falling back to DejaVu Sans.    \u001b]8;id=44281;file:///home/ubuntu/miniconda3/envs/ml_workshop/lib/python3.8/site-packages/matplotlib/font_manager.py\u001b\\\u001b[2mfont_manager.py\u001b[0m\u001b]8;;\u001b\\\u001b[2m:\u001b[0m\u001b]8;id=710202;file:///home/ubuntu/miniconda3/envs/ml_workshop/lib/python3.8/site-packages/matplotlib/font_manager.py#1350\u001b\\\u001b[2m1350\u001b[0m\u001b]8;;\u001b\\\n"
      ]
     },
     "metadata": {},
     "output_type": "display_data"
    },
    {
     "data": {
      "text/html": [
       "<pre style=\"white-space:pre;overflow-x:auto;line-height:normal;font-family:Menlo,'DejaVu Sans Mono',consolas,'Courier New',monospace\"><span style=\"color: #7fbfbf; text-decoration-color: #7fbfbf\">[06:51:48] </span><span style=\"color: #800000; text-decoration-color: #800000\">WARNING </span> findfont: Font family <span style=\"font-weight: bold\">[</span><span style=\"color: #008000; text-decoration-color: #008000\">'Arial'</span><span style=\"font-weight: bold\">]</span> not found. Falling back to DejaVu Sans.    <a href=\"file:///home/ubuntu/miniconda3/envs/ml_workshop/lib/python3.8/site-packages/matplotlib/font_manager.py\" target=\"_blank\"><span style=\"color: #7f7f7f; text-decoration-color: #7f7f7f\">font_manager.py</span></a><span style=\"color: #7f7f7f; text-decoration-color: #7f7f7f\">:</span><a href=\"file:///home/ubuntu/miniconda3/envs/ml_workshop/lib/python3.8/site-packages/matplotlib/font_manager.py#1350\" target=\"_blank\"><span style=\"color: #7f7f7f; text-decoration-color: #7f7f7f\">1350</span></a>\n",
       "</pre>\n"
      ],
      "text/plain": [
       "\u001b[2;36m[06:51:48]\u001b[0m\u001b[2;36m \u001b[0m\u001b[31mWARNING \u001b[0m findfont: Font family \u001b[1m[\u001b[0m\u001b[32m'Arial'\u001b[0m\u001b[1m]\u001b[0m not found. Falling back to DejaVu Sans.    \u001b]8;id=773257;file:///home/ubuntu/miniconda3/envs/ml_workshop/lib/python3.8/site-packages/matplotlib/font_manager.py\u001b\\\u001b[2mfont_manager.py\u001b[0m\u001b]8;;\u001b\\\u001b[2m:\u001b[0m\u001b]8;id=904333;file:///home/ubuntu/miniconda3/envs/ml_workshop/lib/python3.8/site-packages/matplotlib/font_manager.py#1350\u001b\\\u001b[2m1350\u001b[0m\u001b]8;;\u001b\\\n"
      ]
     },
     "metadata": {},
     "output_type": "display_data"
    },
    {
     "name": "stdout",
     "output_type": "stream",
     "text": [
      "2_DecisionTree logloss 0.560716 trained in 15.12 seconds\n",
      "* Step default_algorithms will try to check up to 3 models\n",
      "3_Default_Xgboost logloss 0.503069 trained in 12.48 seconds\n",
      "4_Default_NeuralNetwork logloss 0.510378 trained in 11.25 seconds\n",
      "5_Default_RandomForest logloss 0.53522 trained in 11.37 seconds\n",
      "* Step ensemble will try to check up to 1 model\n",
      "Ensemble logloss 0.502129 trained in 3.2 seconds\n",
      "AutoML fit time: 64.01 seconds\n",
      "AutoML best model: Ensemble\n"
     ]
    }
   ],
   "source": [
    "X_train, X_test, y_train, y_test = train_test_split(\n",
    "    df[train_columns], df[target_column], test_size=0.25, random_state=42\n",
    ")\n",
    "\n",
    "automl = AutoML(results_path=\"results_diabetes\")\n",
    "automl.fit(X_train, y_train)\n",
    "\n",
    "predictions = automl.predict(X_test)"
   ]
  },
  {
   "cell_type": "markdown",
   "metadata": {},
   "source": [
    "# Watermark\n",
    "\n",
    "This should be the last section of your notebook, since it watermarks all your environment.\n",
    "\n",
    "When commiting this notebook, remember to restart the kernel, rerun the notebook and run this cell last, to watermark the environment."
   ]
  },
  {
   "cell_type": "code",
   "execution_count": 6,
   "metadata": {},
   "outputs": [
    {
     "name": "stdout",
     "output_type": "stream",
     "text": [
      "Python implementation: CPython\n",
      "Python version       : 3.8.13\n",
      "IPython version      : 8.4.0\n",
      "\n",
      "Compiler    : GCC 10.3.0\n",
      "OS          : Linux\n",
      "Release     : 5.15.0-1017-aws\n",
      "Machine     : x86_64\n",
      "Processor   : x86_64\n",
      "CPU cores   : 4\n",
      "Architecture: 64bit\n",
      "\n",
      "Git hash: 35e2f62d87aa72cb48f930e06a61764e58edbc5f\n",
      "\n",
      "Git branch: add-automl-example\n",
      "\n",
      "pandas : 1.4.3\n",
      "logging: 0.5.1.2\n",
      "sys    : 3.8.13 | packaged by conda-forge | (default, Mar 25 2022, 06:04:10) \n",
      "[GCC 10.3.0]\n",
      "\n"
     ]
    }
   ],
   "source": [
    "%watermark -gb -iv -m -v"
   ]
  }
 ],
 "metadata": {
  "kernelspec": {
   "display_name": "Python 3.8.13 ('ml_workshop')",
   "language": "python",
   "name": "python3"
  },
  "language_info": {
   "codemirror_mode": {
    "name": "ipython",
    "version": 3
   },
   "file_extension": ".py",
   "mimetype": "text/x-python",
   "name": "python",
   "nbconvert_exporter": "python",
   "pygments_lexer": "ipython3",
   "version": "3.8.13"
  },
  "vscode": {
   "interpreter": {
    "hash": "83996fee1891340ebcb1a1cf7be7ce7ce6b1a094ef5917386a5c7762de75d59e"
   }
  }
 },
 "nbformat": 4,
 "nbformat_minor": 2
}
