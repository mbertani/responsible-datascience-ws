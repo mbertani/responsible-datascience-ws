{
 "cells": [
  {
   "cell_type": "markdown",
   "metadata": {},
   "source": [
    "# *[Using AutoML as a start point]*\n",
    "\n",
    "**Author:** [Marco Bertani-Økland](https://github.com/mbertani)\n",
    "\n",
    "**Achievement:** Illustrate the use of AutoML as a starting point to explore different algorithms.\n",
    "\n",
    "## Introduction\n",
    "\n",
    "This notebook is based on [https://supervised.mljar.com/](https://supervised.mljar.com/).\n",
    "\n",
    "Run the notebook and check the results produced under the folder `results_diabetes`. \n",
    "\n",
    "Requirements:\n",
    "\n",
    "1. You must run `make venv` to verify that all packages are installed.\n",
    "2. You must have downloaded the [diabetes dataset](https://www.kaggle.com/datasets/alexteboul/diabetes-health-indicators-dataset) into the folder `NBD_22_workshop`."
   ]
  },
  {
   "cell_type": "markdown",
   "metadata": {},
   "source": [
    "# Reproducibility and code formatting"
   ]
  },
  {
   "cell_type": "code",
   "execution_count": 1,
   "metadata": {},
   "outputs": [],
   "source": [
    "# To watermark the environment\n",
    "%load_ext watermark\n",
    "\n",
    "# For automatic code formatting in jupyter lab.\n",
    "%load_ext lab_black\n",
    "\n",
    "# For automatic code formatting in jupyter notebook\n",
    "%load_ext nb_black\n",
    "\n",
    "# For better logging\n",
    "%load_ext rich"
   ]
  },
  {
   "cell_type": "markdown",
   "metadata": {},
   "source": [
    "# Analysis"
   ]
  },
  {
   "cell_type": "code",
   "execution_count": 2,
   "metadata": {},
   "outputs": [],
   "source": [
    "# Imports\n",
    "# -------\n",
    "\n",
    "# System\n",
    "import sys\n",
    "\n",
    "# Logging\n",
    "import logging\n",
    "\n",
    "# Rich logging in jupyter\n",
    "from rich.logging import RichHandler\n",
    "\n",
    "FORMAT = \"%(message)s\"\n",
    "logging.basicConfig(\n",
    "    level=\"INFO\", format=FORMAT, datefmt=\"[%X]\", handlers=[RichHandler()]\n",
    ")\n",
    "\n",
    "log = logging.getLogger(\"rich\")\n",
    "\n",
    "# Nice logging example:\n",
    "# log.error(\"[bold red blink]Server is shutting down![/]\", extra={\"markup\": True})\n",
    "\n",
    "\n",
    "# Other packages\n",
    "import pandas as pd\n",
    "from sklearn.model_selection import train_test_split\n",
    "from supervised.automl import AutoML\n",
    "from sklearn.metrics import accuracy_score\n",
    "\n",
    "RANDOM_SEED = 42"
   ]
  },
  {
   "cell_type": "code",
   "execution_count": 3,
   "metadata": {},
   "outputs": [],
   "source": [
    "# Let's load the training dataset\n",
    "datapath = \"../data/train/diabetes_binary_train.csv.zip\"\n",
    "df = pd.read_csv(datapath, compression=\"zip\")"
   ]
  },
  {
   "cell_type": "code",
   "execution_count": 4,
   "metadata": {},
   "outputs": [],
   "source": [
    "# Then we create the list of columns we will use for training\n",
    "target_column = \"Diabetes_binary\"\n",
    "train_columns = list(df.columns)\n",
    "train_columns.remove(target_column)\n",
    "\n",
    "X_train, X_valid, y_train, y_valid = train_test_split(\n",
    "    df[train_columns], df[target_column], test_size=0.2, random_state=RANDOM_SEED\n",
    ")"
   ]
  },
  {
   "cell_type": "markdown",
   "metadata": {},
   "source": [
    "Using the AutoML package, we configure it for binary classification. The package has several [modes](https://supervised.mljar.com/features/modes/), and we use `Perform` for real life scenarios. We chose some [algorithms](https://supervised.mljar.com/features/algorithms/) to start with, but have a look at the list of available ones, if you want to experiment with others (beware: no all can be used for the binary classification setup).\n",
    "\n",
    "We have also changed the default metric to `accuracy`, and set the [start_random_models=5](https://supervised.mljar.com/features/automl/#not_so_random) to perform random search over some hyper-parameters. We also turn off the `train_ensemble` option, which will use an ensemble of previous models."
   ]
  },
  {
   "cell_type": "code",
   "execution_count": 5,
   "metadata": {},
   "outputs": [
    {
     "name": "stdout",
     "output_type": "stream",
     "text": [
      "AutoML directory: experiment-full\n",
      "The task is binary_classification with evaluation metric accuracy\n",
      "AutoML will use algorithms: ['LightGBM', 'Extra Trees', 'CatBoost', 'Baseline', 'Decision Tree', 'Neural Network']\n",
      "AutoML steps: ['simple_algorithms', 'default_algorithms', 'not_so_random', 'golden_features', 'insert_random_feature', 'features_selection', 'hill_climbing_1', 'hill_climbing_2']\n",
      "* Step simple_algorithms will try to check up to 4 models\n",
      "1_Baseline accuracy 0.500729 trained in 9.75 seconds (1-sample predict time 0.0223 seconds)\n",
      "2_DecisionTree accuracy 0.727996 trained in 59.61 seconds (1-sample predict time 0.035 seconds)\n",
      "3_DecisionTree accuracy 0.700809 trained in 28.98 seconds (1-sample predict time 0.0317 seconds)\n",
      "4_DecisionTree accuracy 0.700809 trained in 28.76 seconds (1-sample predict time 0.0274 seconds)\n",
      "* Step default_algorithms will try to check up to 4 models\n",
      "5_Default_LightGBM accuracy 0.754012 trained in 31.53 seconds (1-sample predict time 0.0342 seconds)\n",
      "6_Default_CatBoost accuracy 0.75441 trained in 18.47 seconds (1-sample predict time 0.0332 seconds)\n",
      "7_Default_NeuralNetwork accuracy 0.748685 trained in 62.62 seconds (1-sample predict time 0.0415 seconds)\n",
      "8_Default_ExtraTrees accuracy 0.730649 trained in 19.24 seconds (1-sample predict time 0.0549 seconds)\n",
      "* Step not_so_random will try to check up to 16 models\n",
      "9_LightGBM accuracy 0.753282 trained in 26.12 seconds (1-sample predict time 0.0317 seconds)\n",
      "13_CatBoost accuracy 0.754255 trained in 17.68 seconds (1-sample predict time 0.0305 seconds)\n",
      "17_ExtraTrees accuracy 0.744109 trained in 25.54 seconds (1-sample predict time 0.0624 seconds)\n",
      "21_NeuralNetwork accuracy 0.750984 trained in 55.5 seconds (1-sample predict time 0.055 seconds)\n",
      "10_LightGBM accuracy 0.753415 trained in 25.02 seconds (1-sample predict time 0.0418 seconds)\n",
      "14_CatBoost accuracy 0.75483 trained in 16.39 seconds (1-sample predict time 0.0335 seconds)\n",
      "18_ExtraTrees accuracy 0.721741 trained in 34.94 seconds (1-sample predict time 0.1109 seconds)\n",
      "22_NeuralNetwork accuracy 0.749923 trained in 79.06 seconds (1-sample predict time 0.0493 seconds)\n",
      "11_LightGBM accuracy 0.754189 trained in 30.55 seconds (1-sample predict time 0.0305 seconds)\n",
      "15_CatBoost accuracy 0.754476 trained in 27.44 seconds (1-sample predict time 0.0318 seconds)\n",
      "19_ExtraTrees accuracy 0.723443 trained in 23.16 seconds (1-sample predict time 0.0572 seconds)\n",
      "23_NeuralNetwork accuracy 0.750387 trained in 51.32 seconds (1-sample predict time 0.0439 seconds)\n",
      "12_LightGBM accuracy 0.752288 trained in 27.83 seconds (1-sample predict time 0.0312 seconds)\n",
      "16_CatBoost accuracy 0.754719 trained in 16.78 seconds (1-sample predict time 0.0294 seconds)\n",
      "20_ExtraTrees accuracy 0.730604 trained in 18.88 seconds (1-sample predict time 0.0529 seconds)\n",
      "24_NeuralNetwork accuracy 0.750519 trained in 50.79 seconds (1-sample predict time 0.0464 seconds)\n",
      "* Step golden_features will try to check up to 3 models\n",
      "None 10\n",
      "Add Golden Feature: GenHlth_sum_HighBP\n",
      "Add Golden Feature: Age_multiply_GenHlth\n",
      "Add Golden Feature: GenHlth_sum_HighChol\n",
      "Add Golden Feature: GenHlth_multiply_BMI\n",
      "Add Golden Feature: DiffWalk_sum_GenHlth\n",
      "Add Golden Feature: GenHlth_multiply_HighBP\n",
      "Add Golden Feature: GenHlth_ratio_HighBP\n",
      "Add Golden Feature: GenHlth_sum_HeartDiseaseorAttack\n",
      "Add Golden Feature: HighBP_ratio_GenHlth\n",
      "Add Golden Feature: DiffWalk_sum_HighBP\n",
      "Created 10 Golden Features in 1.32 seconds.\n",
      "14_CatBoost_GoldenFeatures accuracy 0.754675 trained in 19.17 seconds (1-sample predict time 0.0609 seconds)\n",
      "16_CatBoost_GoldenFeatures accuracy 0.754166 trained in 17.27 seconds (1-sample predict time 0.0577 seconds)\n",
      "15_CatBoost_GoldenFeatures accuracy 0.753304 trained in 25.2 seconds (1-sample predict time 0.0568 seconds)\n",
      "Not enough time to perform features selection. Skip\n",
      "Time needed for features selection ~ 153.0 seconds\n",
      "Please increase total_time_limit to at least (1592 seconds) to have features selection\n",
      "Skip insert_random_feature because no parameters were generated.\n",
      "Skip features_selection because no parameters were generated.\n",
      "* Step hill_climbing_1 will try to check up to 14 models\n",
      "25_CatBoost accuracy 0.754233 trained in 17.73 seconds (1-sample predict time 0.0371 seconds)\n",
      "26_CatBoost accuracy 0.753614 trained in 18.71 seconds (1-sample predict time 0.0312 seconds)\n",
      "27_CatBoost accuracy 0.754763 trained in 17.2 seconds (1-sample predict time 0.0302 seconds)\n",
      "28_LightGBM accuracy 0.754189 trained in 31.75 seconds (1-sample predict time 0.0438 seconds)\n",
      "29_LightGBM accuracy 0.754189 trained in 33.91 seconds (1-sample predict time 0.0382 seconds)\n",
      "30_LightGBM accuracy 0.754012 trained in 35.37 seconds (1-sample predict time 0.0343 seconds)\n",
      "31_LightGBM accuracy 0.754012 trained in 35.22 seconds (1-sample predict time 0.0363 seconds)\n",
      "32_NeuralNetwork accuracy 0.749436 trained in 70.77 seconds (1-sample predict time 0.0605 seconds)\n",
      "33_NeuralNetwork accuracy 0.650855 trained in 84.29 seconds (1-sample predict time 0.0584 seconds)\n",
      "34_NeuralNetwork accuracy 0.751691 trained in 62.15 seconds (1-sample predict time 0.0579 seconds)\n",
      "35_ExtraTrees accuracy 0.744684 trained in 30.46 seconds (1-sample predict time 0.0768 seconds)\n",
      "* Step hill_climbing_2 will try to check up to 15 models\n",
      "36_CatBoost accuracy 0.754012 trained in 18.38 seconds (1-sample predict time 0.0359 seconds)\n",
      "37_CatBoost accuracy 0.754365 trained in 20.24 seconds (1-sample predict time 0.0367 seconds)\n",
      "38_CatBoost accuracy 0.753658 trained in 19.01 seconds (1-sample predict time 0.0383 seconds)\n",
      "39_LightGBM accuracy 0.754476 trained in 32.68 seconds (1-sample predict time 0.044 seconds)\n",
      "40_LightGBM accuracy 0.75315 trained in 33.83 seconds (1-sample predict time 0.0334 seconds)\n",
      "AutoML fit time: 1515.71 seconds\n",
      "AutoML best model: 14_CatBoost\n"
     ]
    }
   ],
   "source": [
    "# Using the AutoML package, we configure it for binary classification\n",
    "automl = AutoML(\n",
    "    results_path=\"experiment-full\",\n",
    "    mode=\"Perform\",\n",
    "    ml_task=\"binary_classification\",\n",
    "    algorithms=[\n",
    "        \"LightGBM\",\n",
    "        \"Extra Trees\",\n",
    "        \"CatBoost\",\n",
    "        \"Baseline\",\n",
    "        \"Decision Tree\",\n",
    "        \"Neural Network\",\n",
    "    ],\n",
    "    eval_metric=\"accuracy\",\n",
    "    start_random_models=5,\n",
    "    total_time_limit=1500,\n",
    "    train_ensemble=False,\n",
    "    random_state=RANDOM_SEED,\n",
    ")\n",
    "model = automl.fit(X_train, y_train)"
   ]
  },
  {
   "cell_type": "code",
   "execution_count": 6,
   "metadata": {},
   "outputs": [
    {
     "name": "stdout",
     "output_type": "stream",
     "text": [
      "Best model accuracy score on validation set: 0.749\n"
     ]
    }
   ],
   "source": [
    "predictions = automl.predict(X_valid)\n",
    "print(\n",
    "    f\"Best model accuracy score on validation set: {accuracy_score(y_valid,predictions):.3f}\"\n",
    ")"
   ]
  },
  {
   "cell_type": "markdown",
   "metadata": {},
   "source": [
    "# Improving the experimentation\n",
    "\n",
    "In the previous step, we used the full dataset. But what about using only the columns where the predictive power score was highest? We can sort those columns by the power score ranking, run the auto-ml pipeline for the first column and find the best model. Then we add a new column and repeat. When do we get a similar perfomance than when using the full dataset?\n",
    "\n",
    "In this way, we prune the features by creating a simpler model, and less data dependencies. "
   ]
  },
  {
   "cell_type": "code",
   "execution_count": 7,
   "metadata": {},
   "outputs": [],
   "source": [
    "from typing import List\n",
    "\n",
    "\n",
    "def automl_pipeline(\n",
    "    frame: pd.DataFrame,\n",
    "    train_columns: List[str],\n",
    "    target_column: str,\n",
    "    results_path: str,\n",
    "    random_search_iterations: int,\n",
    "    max_total_time: int,\n",
    "    random_state: int = RANDOM_SEED,\n",
    ") -> AutoML:\n",
    "    \"\"\"Create a simple pipeline that will create the train and eval splits on the selected columns and run the auto-ml process.\n",
    "\n",
    "    Args:\n",
    "        frame (pd.DataFrame): The input dataset to be split.\n",
    "        train_columns (List[str]): A list of columns to use for training.\n",
    "        target_column (str): The target column to predict.\n",
    "        results_path (str): A name for the folder to store the results.\n",
    "        random_search_iterations (int): The number of random search hyper-params trials to run.\n",
    "        random_state (int, optional): The random seed to fix the pseudo-random number generators. Defaults to RANDOM_SEED.\n",
    "\n",
    "    Returns:\n",
    "        AutoML: an AutoML object containing the best model for each run.\n",
    "    \"\"\"\n",
    "    X_train, X_valid, y_train, y_valid = train_test_split(\n",
    "        frame[train_columns],\n",
    "        frame[target_column],\n",
    "        test_size=0.2,\n",
    "        random_state=RANDOM_SEED,\n",
    "    )\n",
    "\n",
    "    automl = AutoML(\n",
    "        results_path=results_path,\n",
    "        mode=\"Perform\",\n",
    "        ml_task=\"binary_classification\",\n",
    "        algorithms=[\n",
    "            \"Baseline\",\n",
    "            \"Decision Tree\",\n",
    "            \"Extra Trees\",\n",
    "            \"LightGBM\",\n",
    "            \"CatBoost\",\n",
    "            \"Neural Network\",\n",
    "        ],\n",
    "        eval_metric=\"accuracy\",\n",
    "        start_random_models=random_search_iterations,\n",
    "        train_ensemble=False,\n",
    "        total_time_limit=max_total_time,\n",
    "        random_state=RANDOM_SEED,\n",
    "    )\n",
    "\n",
    "    model = automl.fit(X_train, y_train)\n",
    "    predictions = automl.predict(X_valid)\n",
    "    log.info(\n",
    "        f\"Best model accuracy_score on valid set: {accuracy_score(y_valid,predictions):.3f}\"\n",
    "    )\n",
    "    return model\n",
    "\n",
    "\n",
    "def experiment_pipeline(\n",
    "    name: str,\n",
    "    target_column: str,\n",
    "    sorted_columns: List[str],\n",
    "    frame: pd.DataFrame,\n",
    "    random_search_iterations: int = 5,\n",
    "    max_total_time: int = 1500,\n",
    "    random_state: int = RANDOM_SEED,\n",
    ") -> List[AutoML]:\n",
    "    \"\"\"A method to run several iterations of an AutoML process.\n",
    "\n",
    "    Args:\n",
    "        name (str): The name to use as prefix for the results folder. The folders will be created using format `<name>-<index>`.\n",
    "        target_column (str): The column with the feature to predict.\n",
    "        sorted_columns (List[str]): A sorted list of feature columns. The process will start by runing an AutoML process for the first column for training, and add the next one for the next iteration.\n",
    "        frame (pd.DataFrame): The dataFrame with all the data, not split beforehand.\n",
    "        random_search_iterations (int): The number of random search hyper-params trials to run.\n",
    "        max_total_time (int): The max number of seconds the experiment can run for. Default is 1500 seconds (25 mins).\n",
    "        random_state (int, optional): The random seed to fix the pseudo-random number generators. Defaults to RANDOM_SEED.\n",
    "\n",
    "    Returns:\n",
    "        List[AutoML]: A sorted list of AutoML objects.\n",
    "    \"\"\"\n",
    "    best_models = []\n",
    "    for iteration in range(1, len(sorted_columns) + 1):\n",
    "        experiment = f\"{name}-{iteration}\"\n",
    "        log.info(f\"Starting: {experiment}\")\n",
    "        train_columns = sorted_columns[0:iteration]\n",
    "        log.info(f\"Training on features: {train_columns}\")\n",
    "        automl_model = automl_pipeline(\n",
    "            frame=df,\n",
    "            train_columns=train_columns,\n",
    "            target_column=target_column,\n",
    "            results_path=experiment,\n",
    "            random_search_iterations=random_search_iterations,\n",
    "            max_total_time=max_total_time,\n",
    "            random_state=random_state,\n",
    "        )\n",
    "        best_models.append(automl_model)\n",
    "        log.info(f\"Ending: {experiment}\\n\")\n",
    "\n",
    "    return best_models"
   ]
  },
  {
   "cell_type": "code",
   "execution_count": 8,
   "metadata": {},
   "outputs": [
    {
     "data": {
      "text/html": [
       "<pre style=\"white-space:pre;overflow-x:auto;line-height:normal;font-family:Menlo,'DejaVu Sans Mono',consolas,'Courier New',monospace\"><span style=\"color: #7fbfbf; text-decoration-color: #7fbfbf\">[15:32:54] </span><span style=\"color: #000080; text-decoration-color: #000080\">INFO    </span> Starting: experiment-<span style=\"color: #008080; text-decoration-color: #008080; font-weight: bold\">1</span>                                                         <a href=\"file:///var/folders/36/qwv4kvgd7qgdy1b1gnkflknm0000gp/T/ipykernel_98588/2828474923.py\" target=\"_blank\"><span style=\"color: #7f7f7f; text-decoration-color: #7f7f7f\">2828474923.py</span></a><span style=\"color: #7f7f7f; text-decoration-color: #7f7f7f\">:</span><a href=\"file:///var/folders/36/qwv4kvgd7qgdy1b1gnkflknm0000gp/T/ipykernel_98588/2828474923.py#86\" target=\"_blank\"><span style=\"color: #7f7f7f; text-decoration-color: #7f7f7f\">86</span></a>\n",
       "</pre>\n"
      ],
      "text/plain": [
       "\u001b[2;36m[15:32:54]\u001b[0m\u001b[2;36m \u001b[0m\u001b[34mINFO    \u001b[0m Starting: experiment-\u001b[1;36m1\u001b[0m                                                         \u001b]8;id=671318;file:///var/folders/36/qwv4kvgd7qgdy1b1gnkflknm0000gp/T/ipykernel_98588/2828474923.py\u001b\\\u001b[2m2828474923.py\u001b[0m\u001b]8;;\u001b\\\u001b[2m:\u001b[0m\u001b]8;id=700679;file:///var/folders/36/qwv4kvgd7qgdy1b1gnkflknm0000gp/T/ipykernel_98588/2828474923.py#86\u001b\\\u001b[2m86\u001b[0m\u001b]8;;\u001b\\\n"
      ]
     },
     "metadata": {},
     "output_type": "display_data"
    },
    {
     "data": {
      "text/html": [
       "<pre style=\"white-space:pre;overflow-x:auto;line-height:normal;font-family:Menlo,'DejaVu Sans Mono',consolas,'Courier New',monospace\"><span style=\"color: #7fbfbf; text-decoration-color: #7fbfbf\">           </span><span style=\"color: #000080; text-decoration-color: #000080\">INFO    </span> Training on features: <span style=\"font-weight: bold\">[</span><span style=\"color: #008000; text-decoration-color: #008000\">'HighBP'</span><span style=\"font-weight: bold\">]</span>                                               <a href=\"file:///var/folders/36/qwv4kvgd7qgdy1b1gnkflknm0000gp/T/ipykernel_98588/2828474923.py\" target=\"_blank\"><span style=\"color: #7f7f7f; text-decoration-color: #7f7f7f\">2828474923.py</span></a><span style=\"color: #7f7f7f; text-decoration-color: #7f7f7f\">:</span><a href=\"file:///var/folders/36/qwv4kvgd7qgdy1b1gnkflknm0000gp/T/ipykernel_98588/2828474923.py#88\" target=\"_blank\"><span style=\"color: #7f7f7f; text-decoration-color: #7f7f7f\">88</span></a>\n",
       "</pre>\n"
      ],
      "text/plain": [
       "\u001b[2;36m          \u001b[0m\u001b[2;36m \u001b[0m\u001b[34mINFO    \u001b[0m Training on features: \u001b[1m[\u001b[0m\u001b[32m'HighBP'\u001b[0m\u001b[1m]\u001b[0m                                               \u001b]8;id=210180;file:///var/folders/36/qwv4kvgd7qgdy1b1gnkflknm0000gp/T/ipykernel_98588/2828474923.py\u001b\\\u001b[2m2828474923.py\u001b[0m\u001b]8;;\u001b\\\u001b[2m:\u001b[0m\u001b]8;id=973381;file:///var/folders/36/qwv4kvgd7qgdy1b1gnkflknm0000gp/T/ipykernel_98588/2828474923.py#88\u001b\\\u001b[2m88\u001b[0m\u001b]8;;\u001b\\\n"
      ]
     },
     "metadata": {},
     "output_type": "display_data"
    },
    {
     "name": "stdout",
     "output_type": "stream",
     "text": [
      "AutoML directory: experiment-1\n",
      "The task is binary_classification with evaluation metric accuracy\n",
      "AutoML will use algorithms: ['Baseline', 'Decision Tree', 'Extra Trees', 'LightGBM', 'CatBoost', 'Neural Network']\n",
      "AutoML steps: ['simple_algorithms', 'default_algorithms', 'golden_features', 'insert_random_feature', 'features_selection', 'hill_climbing_1', 'hill_climbing_2']\n",
      "* Step simple_algorithms will try to check up to 2 models\n",
      "1_Baseline accuracy 0.500729 trained in 12.81 seconds (1-sample predict time 0.0138 seconds)\n",
      "2_DecisionTree accuracy 0.690752 trained in 50.97 seconds (1-sample predict time 0.0163 seconds)\n",
      "* Step default_algorithms will try to check up to 4 models\n",
      "3_Default_LightGBM accuracy 0.690752 trained in 17.11 seconds (1-sample predict time 0.0144 seconds)\n",
      "4_Default_CatBoost accuracy 0.690752 trained in 15.81 seconds (1-sample predict time 0.0132 seconds)\n",
      "5_Default_NeuralNetwork accuracy 0.690752 trained in 46.9 seconds (1-sample predict time 0.0416 seconds)\n",
      "* Step golden_features will try to check up to 3 models\n"
     ]
    },
    {
     "data": {
      "text/html": [
       "<pre style=\"white-space:pre;overflow-x:auto;line-height:normal;font-family:Menlo,'DejaVu Sans Mono',consolas,'Courier New',monospace\"><span style=\"color: #7fbfbf; text-decoration-color: #7fbfbf\">[15:35:26] </span><span style=\"color: #800000; text-decoration-color: #800000; font-weight: bold\">ERROR   </span> Golden Features not created. Empty scores.                                     <a href=\"file:///usr/local/Caskroom/miniconda/base/envs/ml_automl/lib/python3.8/site-packages/supervised/exceptions.py\" target=\"_blank\"><span style=\"color: #7f7f7f; text-decoration-color: #7f7f7f\">exceptions.py</span></a><span style=\"color: #7f7f7f; text-decoration-color: #7f7f7f\">:</span><a href=\"file:///usr/local/Caskroom/miniconda/base/envs/ml_automl/lib/python3.8/site-packages/supervised/exceptions.py#14\" target=\"_blank\"><span style=\"color: #7f7f7f; text-decoration-color: #7f7f7f\">14</span></a>\n",
       "</pre>\n"
      ],
      "text/plain": [
       "\u001b[2;36m[15:35:26]\u001b[0m\u001b[2;36m \u001b[0m\u001b[1;31mERROR   \u001b[0m Golden Features not created. Empty scores.                                     \u001b]8;id=797482;file:///usr/local/Caskroom/miniconda/base/envs/ml_automl/lib/python3.8/site-packages/supervised/exceptions.py\u001b\\\u001b[2mexceptions.py\u001b[0m\u001b]8;;\u001b\\\u001b[2m:\u001b[0m\u001b]8;id=350099;file:///usr/local/Caskroom/miniconda/base/envs/ml_automl/lib/python3.8/site-packages/supervised/exceptions.py#14\u001b\\\u001b[2m14\u001b[0m\u001b]8;;\u001b\\\n"
      ]
     },
     "metadata": {},
     "output_type": "display_data"
    },
    {
     "name": "stdout",
     "output_type": "stream",
     "text": [
      "There was an error during 3_Default_LightGBM_GoldenFeatures training.\n",
      "Please check experiment-1/errors.md for details.\n"
     ]
    },
    {
     "data": {
      "text/html": [
       "<pre style=\"white-space:pre;overflow-x:auto;line-height:normal;font-family:Menlo,'DejaVu Sans Mono',consolas,'Courier New',monospace\"><span style=\"color: #7fbfbf; text-decoration-color: #7fbfbf\">           </span><span style=\"color: #800000; text-decoration-color: #800000; font-weight: bold\">ERROR   </span> Golden Features not created due to error <span style=\"font-weight: bold\">(</span>please check errors.md<span style=\"font-weight: bold\">)</span>. Golden      <a href=\"file:///usr/local/Caskroom/miniconda/base/envs/ml_automl/lib/python3.8/site-packages/supervised/exceptions.py\" target=\"_blank\"><span style=\"color: #7f7f7f; text-decoration-color: #7f7f7f\">exceptions.py</span></a><span style=\"color: #7f7f7f; text-decoration-color: #7f7f7f\">:</span><a href=\"file:///usr/local/Caskroom/miniconda/base/envs/ml_automl/lib/python3.8/site-packages/supervised/exceptions.py#14\" target=\"_blank\"><span style=\"color: #7f7f7f; text-decoration-color: #7f7f7f\">14</span></a>\n",
       "<span style=\"color: #7fbfbf; text-decoration-color: #7fbfbf\">           </span>         Features not created. Empty scores. Input data shape: <span style=\"font-weight: bold\">(</span><span style=\"color: #008080; text-decoration-color: #008080; font-weight: bold\">36193</span>, <span style=\"color: #008080; text-decoration-color: #008080; font-weight: bold\">1</span><span style=\"font-weight: bold\">)</span>, <span style=\"font-weight: bold\">(</span><span style=\"color: #008080; text-decoration-color: #008080; font-weight: bold\">36193</span>,<span style=\"font-weight: bold\">)</span>     <span style=\"color: #7f7f7f; text-decoration-color: #7f7f7f\">                </span>\n",
       "</pre>\n"
      ],
      "text/plain": [
       "\u001b[2;36m          \u001b[0m\u001b[2;36m \u001b[0m\u001b[1;31mERROR   \u001b[0m Golden Features not created due to error \u001b[1m(\u001b[0mplease check errors.md\u001b[1m)\u001b[0m. Golden      \u001b]8;id=43784;file:///usr/local/Caskroom/miniconda/base/envs/ml_automl/lib/python3.8/site-packages/supervised/exceptions.py\u001b\\\u001b[2mexceptions.py\u001b[0m\u001b]8;;\u001b\\\u001b[2m:\u001b[0m\u001b]8;id=618039;file:///usr/local/Caskroom/miniconda/base/envs/ml_automl/lib/python3.8/site-packages/supervised/exceptions.py#14\u001b\\\u001b[2m14\u001b[0m\u001b]8;;\u001b\\\n",
       "\u001b[2;36m           \u001b[0m         Features not created. Empty scores. Input data shape: \u001b[1m(\u001b[0m\u001b[1;36m36193\u001b[0m, \u001b[1;36m1\u001b[0m\u001b[1m)\u001b[0m, \u001b[1m(\u001b[0m\u001b[1;36m36193\u001b[0m,\u001b[1m)\u001b[0m     \u001b[2m                \u001b[0m\n"
      ]
     },
     "metadata": {},
     "output_type": "display_data"
    },
    {
     "name": "stdout",
     "output_type": "stream",
     "text": [
      "There was an error during 4_Default_CatBoost_GoldenFeatures training.\n",
      "Please check experiment-1/errors.md for details.\n"
     ]
    },
    {
     "data": {
      "text/html": [
       "<pre style=\"white-space:pre;overflow-x:auto;line-height:normal;font-family:Menlo,'DejaVu Sans Mono',consolas,'Courier New',monospace\"><span style=\"color: #7fbfbf; text-decoration-color: #7fbfbf\">           </span><span style=\"color: #800000; text-decoration-color: #800000; font-weight: bold\">ERROR   </span> Golden Features not created due to error <span style=\"font-weight: bold\">(</span>please check errors.md<span style=\"font-weight: bold\">)</span>. Golden      <a href=\"file:///usr/local/Caskroom/miniconda/base/envs/ml_automl/lib/python3.8/site-packages/supervised/exceptions.py\" target=\"_blank\"><span style=\"color: #7f7f7f; text-decoration-color: #7f7f7f\">exceptions.py</span></a><span style=\"color: #7f7f7f; text-decoration-color: #7f7f7f\">:</span><a href=\"file:///usr/local/Caskroom/miniconda/base/envs/ml_automl/lib/python3.8/site-packages/supervised/exceptions.py#14\" target=\"_blank\"><span style=\"color: #7f7f7f; text-decoration-color: #7f7f7f\">14</span></a>\n",
       "<span style=\"color: #7fbfbf; text-decoration-color: #7fbfbf\">           </span>         Features not created. Empty scores. Input data shape: <span style=\"font-weight: bold\">(</span><span style=\"color: #008080; text-decoration-color: #008080; font-weight: bold\">36193</span>, <span style=\"color: #008080; text-decoration-color: #008080; font-weight: bold\">1</span><span style=\"font-weight: bold\">)</span>, <span style=\"font-weight: bold\">(</span><span style=\"color: #008080; text-decoration-color: #008080; font-weight: bold\">36193</span>,<span style=\"font-weight: bold\">)</span>     <span style=\"color: #7f7f7f; text-decoration-color: #7f7f7f\">                </span>\n",
       "</pre>\n"
      ],
      "text/plain": [
       "\u001b[2;36m          \u001b[0m\u001b[2;36m \u001b[0m\u001b[1;31mERROR   \u001b[0m Golden Features not created due to error \u001b[1m(\u001b[0mplease check errors.md\u001b[1m)\u001b[0m. Golden      \u001b]8;id=706436;file:///usr/local/Caskroom/miniconda/base/envs/ml_automl/lib/python3.8/site-packages/supervised/exceptions.py\u001b\\\u001b[2mexceptions.py\u001b[0m\u001b]8;;\u001b\\\u001b[2m:\u001b[0m\u001b]8;id=619016;file:///usr/local/Caskroom/miniconda/base/envs/ml_automl/lib/python3.8/site-packages/supervised/exceptions.py#14\u001b\\\u001b[2m14\u001b[0m\u001b]8;;\u001b\\\n",
       "\u001b[2;36m           \u001b[0m         Features not created. Empty scores. Input data shape: \u001b[1m(\u001b[0m\u001b[1;36m36193\u001b[0m, \u001b[1;36m1\u001b[0m\u001b[1m)\u001b[0m, \u001b[1m(\u001b[0m\u001b[1;36m36193\u001b[0m,\u001b[1m)\u001b[0m     \u001b[2m                \u001b[0m\n"
      ]
     },
     "metadata": {},
     "output_type": "display_data"
    },
    {
     "name": "stdout",
     "output_type": "stream",
     "text": [
      "There was an error during 1_Baseline_GoldenFeatures training.\n",
      "Please check experiment-1/errors.md for details.\n",
      "Not enough time to perform features selection. Skip\n",
      "Time needed for features selection ~ 54.0 seconds\n",
      "Please increase total_time_limit to at least (603 seconds) to have features selection\n",
      "Skip insert_random_feature because no parameters were generated.\n",
      "Skip features_selection because no parameters were generated.\n",
      "* Step hill_climbing_1 will try to check up to 6 models\n",
      "6_DecisionTree accuracy 0.690752 trained in 34.04 seconds (1-sample predict time 0.0164 seconds)\n",
      "7_LightGBM accuracy 0.690752 trained in 21.83 seconds (1-sample predict time 0.0141 seconds)\n",
      "8_CatBoost accuracy 0.690752 trained in 13.71 seconds (1-sample predict time 0.0138 seconds)\n",
      "9_CatBoost accuracy 0.690752 trained in 13.97 seconds (1-sample predict time 0.0123 seconds)\n",
      "10_NeuralNetwork accuracy 0.690752 trained in 31.6 seconds (1-sample predict time 0.0264 seconds)\n",
      "* Step hill_climbing_2 will try to check up to 7 models\n",
      "11_CatBoost accuracy 0.690752 trained in 13.92 seconds (1-sample predict time 0.0119 seconds)\n",
      "14_LightGBM accuracy 0.690752 trained in 16.87 seconds (1-sample predict time 0.0139 seconds)\n",
      "AutoML fit time: 311.99 seconds\n",
      "AutoML best model: 2_DecisionTree\n"
     ]
    },
    {
     "data": {
      "text/html": [
       "<pre style=\"white-space:pre;overflow-x:auto;line-height:normal;font-family:Menlo,'DejaVu Sans Mono',consolas,'Courier New',monospace\"><span style=\"color: #7fbfbf; text-decoration-color: #7fbfbf\">[15:38:06] </span><span style=\"color: #000080; text-decoration-color: #000080\">INFO    </span> Best model accuracy_score on valid set: <span style=\"color: #008080; text-decoration-color: #008080; font-weight: bold\">0.687</span>                                  <a href=\"file:///var/folders/36/qwv4kvgd7qgdy1b1gnkflknm0000gp/T/ipykernel_98588/2828474923.py\" target=\"_blank\"><span style=\"color: #7f7f7f; text-decoration-color: #7f7f7f\">2828474923.py</span></a><span style=\"color: #7f7f7f; text-decoration-color: #7f7f7f\">:</span><a href=\"file:///var/folders/36/qwv4kvgd7qgdy1b1gnkflknm0000gp/T/ipykernel_98588/2828474923.py#54\" target=\"_blank\"><span style=\"color: #7f7f7f; text-decoration-color: #7f7f7f\">54</span></a>\n",
       "</pre>\n"
      ],
      "text/plain": [
       "\u001b[2;36m[15:38:06]\u001b[0m\u001b[2;36m \u001b[0m\u001b[34mINFO    \u001b[0m Best model accuracy_score on valid set: \u001b[1;36m0.687\u001b[0m                                  \u001b]8;id=980947;file:///var/folders/36/qwv4kvgd7qgdy1b1gnkflknm0000gp/T/ipykernel_98588/2828474923.py\u001b\\\u001b[2m2828474923.py\u001b[0m\u001b]8;;\u001b\\\u001b[2m:\u001b[0m\u001b]8;id=249434;file:///var/folders/36/qwv4kvgd7qgdy1b1gnkflknm0000gp/T/ipykernel_98588/2828474923.py#54\u001b\\\u001b[2m54\u001b[0m\u001b]8;;\u001b\\\n"
      ]
     },
     "metadata": {},
     "output_type": "display_data"
    },
    {
     "data": {
      "text/html": [
       "<pre style=\"white-space:pre;overflow-x:auto;line-height:normal;font-family:Menlo,'DejaVu Sans Mono',consolas,'Courier New',monospace\"><span style=\"color: #7fbfbf; text-decoration-color: #7fbfbf\">           </span><span style=\"color: #000080; text-decoration-color: #000080\">INFO    </span> Ending: experiment-<span style=\"color: #008080; text-decoration-color: #008080; font-weight: bold\">1</span>                                                           <a href=\"file:///var/folders/36/qwv4kvgd7qgdy1b1gnkflknm0000gp/T/ipykernel_98588/2828474923.py\" target=\"_blank\"><span style=\"color: #7f7f7f; text-decoration-color: #7f7f7f\">2828474923.py</span></a><span style=\"color: #7f7f7f; text-decoration-color: #7f7f7f\">:</span><a href=\"file:///var/folders/36/qwv4kvgd7qgdy1b1gnkflknm0000gp/T/ipykernel_98588/2828474923.py#99\" target=\"_blank\"><span style=\"color: #7f7f7f; text-decoration-color: #7f7f7f\">99</span></a>\n",
       "<span style=\"color: #7fbfbf; text-decoration-color: #7fbfbf\">           </span>                                                                                        <span style=\"color: #7f7f7f; text-decoration-color: #7f7f7f\">                </span>\n",
       "</pre>\n"
      ],
      "text/plain": [
       "\u001b[2;36m          \u001b[0m\u001b[2;36m \u001b[0m\u001b[34mINFO    \u001b[0m Ending: experiment-\u001b[1;36m1\u001b[0m                                                           \u001b]8;id=782536;file:///var/folders/36/qwv4kvgd7qgdy1b1gnkflknm0000gp/T/ipykernel_98588/2828474923.py\u001b\\\u001b[2m2828474923.py\u001b[0m\u001b]8;;\u001b\\\u001b[2m:\u001b[0m\u001b]8;id=393144;file:///var/folders/36/qwv4kvgd7qgdy1b1gnkflknm0000gp/T/ipykernel_98588/2828474923.py#99\u001b\\\u001b[2m99\u001b[0m\u001b]8;;\u001b\\\n",
       "\u001b[2;36m           \u001b[0m                                                                                        \u001b[2m                \u001b[0m\n"
      ]
     },
     "metadata": {},
     "output_type": "display_data"
    },
    {
     "data": {
      "text/html": [
       "<pre style=\"white-space:pre;overflow-x:auto;line-height:normal;font-family:Menlo,'DejaVu Sans Mono',consolas,'Courier New',monospace\"><span style=\"color: #7fbfbf; text-decoration-color: #7fbfbf\">           </span><span style=\"color: #000080; text-decoration-color: #000080\">INFO    </span> Starting: experiment-<span style=\"color: #008080; text-decoration-color: #008080; font-weight: bold\">2</span>                                                         <a href=\"file:///var/folders/36/qwv4kvgd7qgdy1b1gnkflknm0000gp/T/ipykernel_98588/2828474923.py\" target=\"_blank\"><span style=\"color: #7f7f7f; text-decoration-color: #7f7f7f\">2828474923.py</span></a><span style=\"color: #7f7f7f; text-decoration-color: #7f7f7f\">:</span><a href=\"file:///var/folders/36/qwv4kvgd7qgdy1b1gnkflknm0000gp/T/ipykernel_98588/2828474923.py#86\" target=\"_blank\"><span style=\"color: #7f7f7f; text-decoration-color: #7f7f7f\">86</span></a>\n",
       "</pre>\n"
      ],
      "text/plain": [
       "\u001b[2;36m          \u001b[0m\u001b[2;36m \u001b[0m\u001b[34mINFO    \u001b[0m Starting: experiment-\u001b[1;36m2\u001b[0m                                                         \u001b]8;id=27654;file:///var/folders/36/qwv4kvgd7qgdy1b1gnkflknm0000gp/T/ipykernel_98588/2828474923.py\u001b\\\u001b[2m2828474923.py\u001b[0m\u001b]8;;\u001b\\\u001b[2m:\u001b[0m\u001b]8;id=410798;file:///var/folders/36/qwv4kvgd7qgdy1b1gnkflknm0000gp/T/ipykernel_98588/2828474923.py#86\u001b\\\u001b[2m86\u001b[0m\u001b]8;;\u001b\\\n"
      ]
     },
     "metadata": {},
     "output_type": "display_data"
    },
    {
     "data": {
      "text/html": [
       "<pre style=\"white-space:pre;overflow-x:auto;line-height:normal;font-family:Menlo,'DejaVu Sans Mono',consolas,'Courier New',monospace\"><span style=\"color: #7fbfbf; text-decoration-color: #7fbfbf\">           </span><span style=\"color: #000080; text-decoration-color: #000080\">INFO    </span> Training on features: <span style=\"font-weight: bold\">[</span><span style=\"color: #008000; text-decoration-color: #008000\">'HighBP'</span>, <span style=\"color: #008000; text-decoration-color: #008000\">'GenHlth'</span><span style=\"font-weight: bold\">]</span>                                    <a href=\"file:///var/folders/36/qwv4kvgd7qgdy1b1gnkflknm0000gp/T/ipykernel_98588/2828474923.py\" target=\"_blank\"><span style=\"color: #7f7f7f; text-decoration-color: #7f7f7f\">2828474923.py</span></a><span style=\"color: #7f7f7f; text-decoration-color: #7f7f7f\">:</span><a href=\"file:///var/folders/36/qwv4kvgd7qgdy1b1gnkflknm0000gp/T/ipykernel_98588/2828474923.py#88\" target=\"_blank\"><span style=\"color: #7f7f7f; text-decoration-color: #7f7f7f\">88</span></a>\n",
       "</pre>\n"
      ],
      "text/plain": [
       "\u001b[2;36m          \u001b[0m\u001b[2;36m \u001b[0m\u001b[34mINFO    \u001b[0m Training on features: \u001b[1m[\u001b[0m\u001b[32m'HighBP'\u001b[0m, \u001b[32m'GenHlth'\u001b[0m\u001b[1m]\u001b[0m                                    \u001b]8;id=444158;file:///var/folders/36/qwv4kvgd7qgdy1b1gnkflknm0000gp/T/ipykernel_98588/2828474923.py\u001b\\\u001b[2m2828474923.py\u001b[0m\u001b]8;;\u001b\\\u001b[2m:\u001b[0m\u001b]8;id=539028;file:///var/folders/36/qwv4kvgd7qgdy1b1gnkflknm0000gp/T/ipykernel_98588/2828474923.py#88\u001b\\\u001b[2m88\u001b[0m\u001b]8;;\u001b\\\n"
      ]
     },
     "metadata": {},
     "output_type": "display_data"
    },
    {
     "name": "stdout",
     "output_type": "stream",
     "text": [
      "AutoML directory: experiment-2\n",
      "The task is binary_classification with evaluation metric accuracy\n",
      "AutoML will use algorithms: ['Baseline', 'Decision Tree', 'Extra Trees', 'LightGBM', 'CatBoost', 'Neural Network']\n",
      "AutoML steps: ['simple_algorithms', 'default_algorithms', 'golden_features', 'insert_random_feature', 'features_selection', 'hill_climbing_1', 'hill_climbing_2']\n",
      "* Step simple_algorithms will try to check up to 2 models\n",
      "1_Baseline accuracy 0.500729 trained in 12.99 seconds (1-sample predict time 0.0146 seconds)\n",
      "2_DecisionTree accuracy 0.712325 trained in 43.86 seconds (1-sample predict time 0.0164 seconds)\n",
      "* Step default_algorithms will try to check up to 4 models\n",
      "3_Default_LightGBM accuracy 0.713319 trained in 16.26 seconds (1-sample predict time 0.0163 seconds)\n",
      "4_Default_CatBoost accuracy 0.712325 trained in 14.49 seconds (1-sample predict time 0.0126 seconds)\n",
      "5_Default_NeuralNetwork accuracy 0.712325 trained in 40.65 seconds (1-sample predict time 0.0256 seconds)\n",
      "6_Default_ExtraTrees accuracy 0.713319 trained in 18.71 seconds (1-sample predict time 0.035 seconds)\n",
      "* Step golden_features will try to check up to 3 models\n",
      "None 10\n",
      "Add Golden Feature: GenHlth_sum_HighBP\n",
      "Add Golden Feature: GenHlth_ratio_HighBP\n",
      "Add Golden Feature: GenHlth_multiply_HighBP\n",
      "Add Golden Feature: HighBP_ratio_GenHlth\n",
      "Add Golden Feature: HighBP_diff_GenHlth\n",
      "Created 5 Golden Features in 0.05 seconds.\n",
      "3_Default_LightGBM_GoldenFeatures accuracy 0.713319 trained in 16.61 seconds (1-sample predict time 0.0307 seconds)\n",
      "Not enough time to perform features selection. Skip\n",
      "Time needed for features selection ~ 71.0 seconds\n",
      "Please increase total_time_limit to at least (772 seconds) to have features selection\n",
      "Skip insert_random_feature because no parameters were generated.\n",
      "Skip features_selection because no parameters were generated.\n",
      "* Step hill_climbing_1 will try to check up to 11 models\n",
      "7_LightGBM accuracy 0.713319 trained in 15.97 seconds (1-sample predict time 0.0151 seconds)\n",
      "8_LightGBM accuracy 0.713319 trained in 16.18 seconds (1-sample predict time 0.015 seconds)\n",
      "9_ExtraTrees accuracy 0.713319 trained in 16.66 seconds (1-sample predict time 0.0289 seconds)\n",
      "10_ExtraTrees accuracy 0.712325 trained in 16.56 seconds (1-sample predict time 0.033 seconds)\n",
      "11_LightGBM_GoldenFeatures accuracy 0.713319 trained in 16.57 seconds (1-sample predict time 0.0303 seconds)\n",
      "* Step hill_climbing_2 will try to check up to 12 models\n",
      "12_LightGBM accuracy 0.713319 trained in 16.75 seconds (1-sample predict time 0.0148 seconds)\n",
      "13_LightGBM accuracy 0.713319 trained in 16.57 seconds (1-sample predict time 0.0152 seconds)\n",
      "AutoML fit time: 304.33 seconds\n",
      "AutoML best model: 3_Default_LightGBM\n"
     ]
    },
    {
     "data": {
      "text/html": [
       "<pre style=\"white-space:pre;overflow-x:auto;line-height:normal;font-family:Menlo,'DejaVu Sans Mono',consolas,'Courier New',monospace\"><span style=\"color: #7fbfbf; text-decoration-color: #7fbfbf\">[15:43:10] </span><span style=\"color: #000080; text-decoration-color: #000080\">INFO    </span> Best model accuracy_score on valid set: <span style=\"color: #008080; text-decoration-color: #008080; font-weight: bold\">0.708</span>                                  <a href=\"file:///var/folders/36/qwv4kvgd7qgdy1b1gnkflknm0000gp/T/ipykernel_98588/2828474923.py\" target=\"_blank\"><span style=\"color: #7f7f7f; text-decoration-color: #7f7f7f\">2828474923.py</span></a><span style=\"color: #7f7f7f; text-decoration-color: #7f7f7f\">:</span><a href=\"file:///var/folders/36/qwv4kvgd7qgdy1b1gnkflknm0000gp/T/ipykernel_98588/2828474923.py#54\" target=\"_blank\"><span style=\"color: #7f7f7f; text-decoration-color: #7f7f7f\">54</span></a>\n",
       "</pre>\n"
      ],
      "text/plain": [
       "\u001b[2;36m[15:43:10]\u001b[0m\u001b[2;36m \u001b[0m\u001b[34mINFO    \u001b[0m Best model accuracy_score on valid set: \u001b[1;36m0.708\u001b[0m                                  \u001b]8;id=902211;file:///var/folders/36/qwv4kvgd7qgdy1b1gnkflknm0000gp/T/ipykernel_98588/2828474923.py\u001b\\\u001b[2m2828474923.py\u001b[0m\u001b]8;;\u001b\\\u001b[2m:\u001b[0m\u001b]8;id=701216;file:///var/folders/36/qwv4kvgd7qgdy1b1gnkflknm0000gp/T/ipykernel_98588/2828474923.py#54\u001b\\\u001b[2m54\u001b[0m\u001b]8;;\u001b\\\n"
      ]
     },
     "metadata": {},
     "output_type": "display_data"
    },
    {
     "data": {
      "text/html": [
       "<pre style=\"white-space:pre;overflow-x:auto;line-height:normal;font-family:Menlo,'DejaVu Sans Mono',consolas,'Courier New',monospace\"><span style=\"color: #7fbfbf; text-decoration-color: #7fbfbf\">           </span><span style=\"color: #000080; text-decoration-color: #000080\">INFO    </span> Ending: experiment-<span style=\"color: #008080; text-decoration-color: #008080; font-weight: bold\">2</span>                                                           <a href=\"file:///var/folders/36/qwv4kvgd7qgdy1b1gnkflknm0000gp/T/ipykernel_98588/2828474923.py\" target=\"_blank\"><span style=\"color: #7f7f7f; text-decoration-color: #7f7f7f\">2828474923.py</span></a><span style=\"color: #7f7f7f; text-decoration-color: #7f7f7f\">:</span><a href=\"file:///var/folders/36/qwv4kvgd7qgdy1b1gnkflknm0000gp/T/ipykernel_98588/2828474923.py#99\" target=\"_blank\"><span style=\"color: #7f7f7f; text-decoration-color: #7f7f7f\">99</span></a>\n",
       "<span style=\"color: #7fbfbf; text-decoration-color: #7fbfbf\">           </span>                                                                                        <span style=\"color: #7f7f7f; text-decoration-color: #7f7f7f\">                </span>\n",
       "</pre>\n"
      ],
      "text/plain": [
       "\u001b[2;36m          \u001b[0m\u001b[2;36m \u001b[0m\u001b[34mINFO    \u001b[0m Ending: experiment-\u001b[1;36m2\u001b[0m                                                           \u001b]8;id=358156;file:///var/folders/36/qwv4kvgd7qgdy1b1gnkflknm0000gp/T/ipykernel_98588/2828474923.py\u001b\\\u001b[2m2828474923.py\u001b[0m\u001b]8;;\u001b\\\u001b[2m:\u001b[0m\u001b]8;id=11557;file:///var/folders/36/qwv4kvgd7qgdy1b1gnkflknm0000gp/T/ipykernel_98588/2828474923.py#99\u001b\\\u001b[2m99\u001b[0m\u001b]8;;\u001b\\\n",
       "\u001b[2;36m           \u001b[0m                                                                                        \u001b[2m                \u001b[0m\n"
      ]
     },
     "metadata": {},
     "output_type": "display_data"
    },
    {
     "data": {
      "text/html": [
       "<pre style=\"white-space:pre;overflow-x:auto;line-height:normal;font-family:Menlo,'DejaVu Sans Mono',consolas,'Courier New',monospace\"><span style=\"color: #7fbfbf; text-decoration-color: #7fbfbf\">           </span><span style=\"color: #000080; text-decoration-color: #000080\">INFO    </span> Starting: experiment-<span style=\"color: #008080; text-decoration-color: #008080; font-weight: bold\">3</span>                                                         <a href=\"file:///var/folders/36/qwv4kvgd7qgdy1b1gnkflknm0000gp/T/ipykernel_98588/2828474923.py\" target=\"_blank\"><span style=\"color: #7f7f7f; text-decoration-color: #7f7f7f\">2828474923.py</span></a><span style=\"color: #7f7f7f; text-decoration-color: #7f7f7f\">:</span><a href=\"file:///var/folders/36/qwv4kvgd7qgdy1b1gnkflknm0000gp/T/ipykernel_98588/2828474923.py#86\" target=\"_blank\"><span style=\"color: #7f7f7f; text-decoration-color: #7f7f7f\">86</span></a>\n",
       "</pre>\n"
      ],
      "text/plain": [
       "\u001b[2;36m          \u001b[0m\u001b[2;36m \u001b[0m\u001b[34mINFO    \u001b[0m Starting: experiment-\u001b[1;36m3\u001b[0m                                                         \u001b]8;id=827734;file:///var/folders/36/qwv4kvgd7qgdy1b1gnkflknm0000gp/T/ipykernel_98588/2828474923.py\u001b\\\u001b[2m2828474923.py\u001b[0m\u001b]8;;\u001b\\\u001b[2m:\u001b[0m\u001b]8;id=794420;file:///var/folders/36/qwv4kvgd7qgdy1b1gnkflknm0000gp/T/ipykernel_98588/2828474923.py#86\u001b\\\u001b[2m86\u001b[0m\u001b]8;;\u001b\\\n"
      ]
     },
     "metadata": {},
     "output_type": "display_data"
    },
    {
     "data": {
      "text/html": [
       "<pre style=\"white-space:pre;overflow-x:auto;line-height:normal;font-family:Menlo,'DejaVu Sans Mono',consolas,'Courier New',monospace\"><span style=\"color: #7fbfbf; text-decoration-color: #7fbfbf\">           </span><span style=\"color: #000080; text-decoration-color: #000080\">INFO    </span> Training on features: <span style=\"font-weight: bold\">[</span><span style=\"color: #008000; text-decoration-color: #008000\">'HighBP'</span>, <span style=\"color: #008000; text-decoration-color: #008000\">'GenHlth'</span>, <span style=\"color: #008000; text-decoration-color: #008000\">'HighChol'</span><span style=\"font-weight: bold\">]</span>                        <a href=\"file:///var/folders/36/qwv4kvgd7qgdy1b1gnkflknm0000gp/T/ipykernel_98588/2828474923.py\" target=\"_blank\"><span style=\"color: #7f7f7f; text-decoration-color: #7f7f7f\">2828474923.py</span></a><span style=\"color: #7f7f7f; text-decoration-color: #7f7f7f\">:</span><a href=\"file:///var/folders/36/qwv4kvgd7qgdy1b1gnkflknm0000gp/T/ipykernel_98588/2828474923.py#88\" target=\"_blank\"><span style=\"color: #7f7f7f; text-decoration-color: #7f7f7f\">88</span></a>\n",
       "</pre>\n"
      ],
      "text/plain": [
       "\u001b[2;36m          \u001b[0m\u001b[2;36m \u001b[0m\u001b[34mINFO    \u001b[0m Training on features: \u001b[1m[\u001b[0m\u001b[32m'HighBP'\u001b[0m, \u001b[32m'GenHlth'\u001b[0m, \u001b[32m'HighChol'\u001b[0m\u001b[1m]\u001b[0m                        \u001b]8;id=774147;file:///var/folders/36/qwv4kvgd7qgdy1b1gnkflknm0000gp/T/ipykernel_98588/2828474923.py\u001b\\\u001b[2m2828474923.py\u001b[0m\u001b]8;;\u001b\\\u001b[2m:\u001b[0m\u001b]8;id=628138;file:///var/folders/36/qwv4kvgd7qgdy1b1gnkflknm0000gp/T/ipykernel_98588/2828474923.py#88\u001b\\\u001b[2m88\u001b[0m\u001b]8;;\u001b\\\n"
      ]
     },
     "metadata": {},
     "output_type": "display_data"
    },
    {
     "name": "stdout",
     "output_type": "stream",
     "text": [
      "AutoML directory: experiment-3\n",
      "The task is binary_classification with evaluation metric accuracy\n",
      "AutoML will use algorithms: ['Baseline', 'Decision Tree', 'Extra Trees', 'LightGBM', 'CatBoost', 'Neural Network']\n",
      "AutoML steps: ['simple_algorithms', 'default_algorithms', 'golden_features', 'insert_random_feature', 'features_selection', 'hill_climbing_1', 'hill_climbing_2']\n",
      "* Step simple_algorithms will try to check up to 2 models\n",
      "1_Baseline accuracy 0.500729 trained in 13.2 seconds (1-sample predict time 0.0154 seconds)\n",
      "2_DecisionTree accuracy 0.72152 trained in 49.77 seconds (1-sample predict time 0.0154 seconds)\n",
      "* Step default_algorithms will try to check up to 4 models\n",
      "3_Default_LightGBM accuracy 0.722293 trained in 17.6 seconds (1-sample predict time 0.0156 seconds)\n",
      "4_Default_CatBoost accuracy 0.722426 trained in 15.72 seconds (1-sample predict time 0.0138 seconds)\n",
      "5_Default_NeuralNetwork accuracy 0.720813 trained in 42.83 seconds (1-sample predict time 0.0269 seconds)\n",
      "* Step golden_features will try to check up to 3 models\n",
      "None 10\n",
      "Add Golden Feature: GenHlth_sum_HighBP\n",
      "Add Golden Feature: HighChol_sum_GenHlth\n",
      "Add Golden Feature: GenHlth_ratio_HighBP\n",
      "Add Golden Feature: GenHlth_multiply_HighBP\n",
      "Add Golden Feature: HighBP_ratio_GenHlth\n",
      "Add Golden Feature: HighChol_sum_HighBP\n",
      "Add Golden Feature: GenHlth_ratio_HighChol\n",
      "Add Golden Feature: HighChol_multiply_GenHlth\n",
      "Add Golden Feature: HighChol_ratio_GenHlth\n",
      "Add Golden Feature: HighBP_ratio_HighChol\n",
      "Created 10 Golden Features in 0.06 seconds.\n",
      "4_Default_CatBoost_GoldenFeatures accuracy 0.722581 trained in 16.92 seconds (1-sample predict time 0.0347 seconds)\n",
      "Not enough time to perform features selection. Skip\n",
      "Time needed for features selection ~ 56.0 seconds\n",
      "Please increase total_time_limit to at least (618 seconds) to have features selection\n",
      "Skip insert_random_feature because no parameters were generated.\n",
      "Skip features_selection because no parameters were generated.\n",
      "* Step hill_climbing_1 will try to check up to 6 models\n",
      "6_CatBoost_GoldenFeatures accuracy 0.722581 trained in 17.07 seconds (1-sample predict time 0.0353 seconds)\n",
      "7_CatBoost accuracy 0.722426 trained in 16.75 seconds (1-sample predict time 0.0138 seconds)\n",
      "8_LightGBM accuracy 0.722293 trained in 18.17 seconds (1-sample predict time 0.016 seconds)\n",
      "9_DecisionTree accuracy 0.719752 trained in 42.11 seconds (1-sample predict time 0.0161 seconds)\n",
      "* Step hill_climbing_2 will try to check up to 6 models\n",
      "10_CatBoost_GoldenFeatures accuracy 0.722581 trained in 17.81 seconds (1-sample predict time 0.0408 seconds)\n",
      "11_LightGBM accuracy 0.722293 trained in 18.25 seconds (1-sample predict time 0.0156 seconds)\n",
      "AutoML fit time: 308.26 seconds\n",
      "AutoML best model: 4_Default_CatBoost_GoldenFeatures\n"
     ]
    },
    {
     "data": {
      "text/html": [
       "<pre style=\"white-space:pre;overflow-x:auto;line-height:normal;font-family:Menlo,'DejaVu Sans Mono',consolas,'Courier New',monospace\"><span style=\"color: #7fbfbf; text-decoration-color: #7fbfbf\">[15:48:19] </span><span style=\"color: #000080; text-decoration-color: #000080\">INFO    </span> Best model accuracy_score on valid set: <span style=\"color: #008080; text-decoration-color: #008080; font-weight: bold\">0.719</span>                                  <a href=\"file:///var/folders/36/qwv4kvgd7qgdy1b1gnkflknm0000gp/T/ipykernel_98588/2828474923.py\" target=\"_blank\"><span style=\"color: #7f7f7f; text-decoration-color: #7f7f7f\">2828474923.py</span></a><span style=\"color: #7f7f7f; text-decoration-color: #7f7f7f\">:</span><a href=\"file:///var/folders/36/qwv4kvgd7qgdy1b1gnkflknm0000gp/T/ipykernel_98588/2828474923.py#54\" target=\"_blank\"><span style=\"color: #7f7f7f; text-decoration-color: #7f7f7f\">54</span></a>\n",
       "</pre>\n"
      ],
      "text/plain": [
       "\u001b[2;36m[15:48:19]\u001b[0m\u001b[2;36m \u001b[0m\u001b[34mINFO    \u001b[0m Best model accuracy_score on valid set: \u001b[1;36m0.719\u001b[0m                                  \u001b]8;id=938930;file:///var/folders/36/qwv4kvgd7qgdy1b1gnkflknm0000gp/T/ipykernel_98588/2828474923.py\u001b\\\u001b[2m2828474923.py\u001b[0m\u001b]8;;\u001b\\\u001b[2m:\u001b[0m\u001b]8;id=577986;file:///var/folders/36/qwv4kvgd7qgdy1b1gnkflknm0000gp/T/ipykernel_98588/2828474923.py#54\u001b\\\u001b[2m54\u001b[0m\u001b]8;;\u001b\\\n"
      ]
     },
     "metadata": {},
     "output_type": "display_data"
    },
    {
     "data": {
      "text/html": [
       "<pre style=\"white-space:pre;overflow-x:auto;line-height:normal;font-family:Menlo,'DejaVu Sans Mono',consolas,'Courier New',monospace\"><span style=\"color: #7fbfbf; text-decoration-color: #7fbfbf\">           </span><span style=\"color: #000080; text-decoration-color: #000080\">INFO    </span> Ending: experiment-<span style=\"color: #008080; text-decoration-color: #008080; font-weight: bold\">3</span>                                                           <a href=\"file:///var/folders/36/qwv4kvgd7qgdy1b1gnkflknm0000gp/T/ipykernel_98588/2828474923.py\" target=\"_blank\"><span style=\"color: #7f7f7f; text-decoration-color: #7f7f7f\">2828474923.py</span></a><span style=\"color: #7f7f7f; text-decoration-color: #7f7f7f\">:</span><a href=\"file:///var/folders/36/qwv4kvgd7qgdy1b1gnkflknm0000gp/T/ipykernel_98588/2828474923.py#99\" target=\"_blank\"><span style=\"color: #7f7f7f; text-decoration-color: #7f7f7f\">99</span></a>\n",
       "<span style=\"color: #7fbfbf; text-decoration-color: #7fbfbf\">           </span>                                                                                        <span style=\"color: #7f7f7f; text-decoration-color: #7f7f7f\">                </span>\n",
       "</pre>\n"
      ],
      "text/plain": [
       "\u001b[2;36m          \u001b[0m\u001b[2;36m \u001b[0m\u001b[34mINFO    \u001b[0m Ending: experiment-\u001b[1;36m3\u001b[0m                                                           \u001b]8;id=387276;file:///var/folders/36/qwv4kvgd7qgdy1b1gnkflknm0000gp/T/ipykernel_98588/2828474923.py\u001b\\\u001b[2m2828474923.py\u001b[0m\u001b]8;;\u001b\\\u001b[2m:\u001b[0m\u001b]8;id=743177;file:///var/folders/36/qwv4kvgd7qgdy1b1gnkflknm0000gp/T/ipykernel_98588/2828474923.py#99\u001b\\\u001b[2m99\u001b[0m\u001b]8;;\u001b\\\n",
       "\u001b[2;36m           \u001b[0m                                                                                        \u001b[2m                \u001b[0m\n"
      ]
     },
     "metadata": {},
     "output_type": "display_data"
    },
    {
     "data": {
      "text/html": [
       "<pre style=\"white-space:pre;overflow-x:auto;line-height:normal;font-family:Menlo,'DejaVu Sans Mono',consolas,'Courier New',monospace\"><span style=\"color: #7fbfbf; text-decoration-color: #7fbfbf\">           </span><span style=\"color: #000080; text-decoration-color: #000080\">INFO    </span> Starting: experiment-<span style=\"color: #008080; text-decoration-color: #008080; font-weight: bold\">4</span>                                                         <a href=\"file:///var/folders/36/qwv4kvgd7qgdy1b1gnkflknm0000gp/T/ipykernel_98588/2828474923.py\" target=\"_blank\"><span style=\"color: #7f7f7f; text-decoration-color: #7f7f7f\">2828474923.py</span></a><span style=\"color: #7f7f7f; text-decoration-color: #7f7f7f\">:</span><a href=\"file:///var/folders/36/qwv4kvgd7qgdy1b1gnkflknm0000gp/T/ipykernel_98588/2828474923.py#86\" target=\"_blank\"><span style=\"color: #7f7f7f; text-decoration-color: #7f7f7f\">86</span></a>\n",
       "</pre>\n"
      ],
      "text/plain": [
       "\u001b[2;36m          \u001b[0m\u001b[2;36m \u001b[0m\u001b[34mINFO    \u001b[0m Starting: experiment-\u001b[1;36m4\u001b[0m                                                         \u001b]8;id=976727;file:///var/folders/36/qwv4kvgd7qgdy1b1gnkflknm0000gp/T/ipykernel_98588/2828474923.py\u001b\\\u001b[2m2828474923.py\u001b[0m\u001b]8;;\u001b\\\u001b[2m:\u001b[0m\u001b]8;id=452343;file:///var/folders/36/qwv4kvgd7qgdy1b1gnkflknm0000gp/T/ipykernel_98588/2828474923.py#86\u001b\\\u001b[2m86\u001b[0m\u001b]8;;\u001b\\\n"
      ]
     },
     "metadata": {},
     "output_type": "display_data"
    },
    {
     "data": {
      "text/html": [
       "<pre style=\"white-space:pre;overflow-x:auto;line-height:normal;font-family:Menlo,'DejaVu Sans Mono',consolas,'Courier New',monospace\"><span style=\"color: #7fbfbf; text-decoration-color: #7fbfbf\">           </span><span style=\"color: #000080; text-decoration-color: #000080\">INFO    </span> Training on features: <span style=\"font-weight: bold\">[</span><span style=\"color: #008000; text-decoration-color: #008000\">'HighBP'</span>, <span style=\"color: #008000; text-decoration-color: #008000\">'GenHlth'</span>, <span style=\"color: #008000; text-decoration-color: #008000\">'HighChol'</span>, <span style=\"color: #008000; text-decoration-color: #008000\">'BMI'</span><span style=\"font-weight: bold\">]</span>                 <a href=\"file:///var/folders/36/qwv4kvgd7qgdy1b1gnkflknm0000gp/T/ipykernel_98588/2828474923.py\" target=\"_blank\"><span style=\"color: #7f7f7f; text-decoration-color: #7f7f7f\">2828474923.py</span></a><span style=\"color: #7f7f7f; text-decoration-color: #7f7f7f\">:</span><a href=\"file:///var/folders/36/qwv4kvgd7qgdy1b1gnkflknm0000gp/T/ipykernel_98588/2828474923.py#88\" target=\"_blank\"><span style=\"color: #7f7f7f; text-decoration-color: #7f7f7f\">88</span></a>\n",
       "</pre>\n"
      ],
      "text/plain": [
       "\u001b[2;36m          \u001b[0m\u001b[2;36m \u001b[0m\u001b[34mINFO    \u001b[0m Training on features: \u001b[1m[\u001b[0m\u001b[32m'HighBP'\u001b[0m, \u001b[32m'GenHlth'\u001b[0m, \u001b[32m'HighChol'\u001b[0m, \u001b[32m'BMI'\u001b[0m\u001b[1m]\u001b[0m                 \u001b]8;id=430505;file:///var/folders/36/qwv4kvgd7qgdy1b1gnkflknm0000gp/T/ipykernel_98588/2828474923.py\u001b\\\u001b[2m2828474923.py\u001b[0m\u001b]8;;\u001b\\\u001b[2m:\u001b[0m\u001b]8;id=898633;file:///var/folders/36/qwv4kvgd7qgdy1b1gnkflknm0000gp/T/ipykernel_98588/2828474923.py#88\u001b\\\u001b[2m88\u001b[0m\u001b]8;;\u001b\\\n"
      ]
     },
     "metadata": {},
     "output_type": "display_data"
    },
    {
     "name": "stdout",
     "output_type": "stream",
     "text": [
      "AutoML directory: experiment-4\n",
      "The task is binary_classification with evaluation metric accuracy\n",
      "AutoML will use algorithms: ['Baseline', 'Decision Tree', 'Extra Trees', 'LightGBM', 'CatBoost', 'Neural Network']\n",
      "AutoML steps: ['simple_algorithms', 'default_algorithms', 'golden_features', 'insert_random_feature', 'features_selection', 'hill_climbing_1', 'hill_climbing_2']\n",
      "* Step simple_algorithms will try to check up to 2 models\n",
      "1_Baseline accuracy 0.500729 trained in 15.3 seconds (1-sample predict time 0.014 seconds)\n",
      "2_DecisionTree accuracy 0.724725 trained in 52.06 seconds (1-sample predict time 0.0182 seconds)\n",
      "* Step default_algorithms will try to check up to 4 models\n",
      "3_Default_LightGBM accuracy 0.736484 trained in 22.9 seconds (1-sample predict time 0.0164 seconds)\n",
      "4_Default_CatBoost accuracy 0.736484 trained in 17.13 seconds (1-sample predict time 0.0147 seconds)\n",
      "5_Default_NeuralNetwork accuracy 0.734075 trained in 60.9 seconds (1-sample predict time 0.0545 seconds)\n",
      "Skip golden_features because of the time limit.\n",
      "Not enough time to perform features selection. Skip\n",
      "Time needed for features selection ~ 67.0 seconds\n",
      "Please increase total_time_limit to at least (733 seconds) to have features selection\n",
      "Skip insert_random_feature because no parameters were generated.\n",
      "Skip features_selection because no parameters were generated.\n",
      "* Step hill_climbing_1 will try to check up to 6 models\n",
      "6_LightGBM accuracy 0.736572 trained in 21.63 seconds (1-sample predict time 0.0174 seconds)\n",
      "7_CatBoost accuracy 0.736417 trained in 18.49 seconds (1-sample predict time 0.0154 seconds)\n",
      "8_CatBoost accuracy 0.736683 trained in 18.35 seconds (1-sample predict time 0.017 seconds)\n",
      "9_NeuralNetwork accuracy 0.734075 trained in 63.92 seconds (1-sample predict time 0.0276 seconds)\n",
      "Skip hill_climbing_2 because of the time limit.\n",
      "AutoML fit time: 307.49 seconds\n",
      "AutoML best model: 8_CatBoost\n"
     ]
    },
    {
     "data": {
      "text/html": [
       "<pre style=\"white-space:pre;overflow-x:auto;line-height:normal;font-family:Menlo,'DejaVu Sans Mono',consolas,'Courier New',monospace\"><span style=\"color: #7fbfbf; text-decoration-color: #7fbfbf\">[15:53:26] </span><span style=\"color: #000080; text-decoration-color: #000080\">INFO    </span> Best model accuracy_score on valid set: <span style=\"color: #008080; text-decoration-color: #008080; font-weight: bold\">0.731</span>                                  <a href=\"file:///var/folders/36/qwv4kvgd7qgdy1b1gnkflknm0000gp/T/ipykernel_98588/2828474923.py\" target=\"_blank\"><span style=\"color: #7f7f7f; text-decoration-color: #7f7f7f\">2828474923.py</span></a><span style=\"color: #7f7f7f; text-decoration-color: #7f7f7f\">:</span><a href=\"file:///var/folders/36/qwv4kvgd7qgdy1b1gnkflknm0000gp/T/ipykernel_98588/2828474923.py#54\" target=\"_blank\"><span style=\"color: #7f7f7f; text-decoration-color: #7f7f7f\">54</span></a>\n",
       "</pre>\n"
      ],
      "text/plain": [
       "\u001b[2;36m[15:53:26]\u001b[0m\u001b[2;36m \u001b[0m\u001b[34mINFO    \u001b[0m Best model accuracy_score on valid set: \u001b[1;36m0.731\u001b[0m                                  \u001b]8;id=937466;file:///var/folders/36/qwv4kvgd7qgdy1b1gnkflknm0000gp/T/ipykernel_98588/2828474923.py\u001b\\\u001b[2m2828474923.py\u001b[0m\u001b]8;;\u001b\\\u001b[2m:\u001b[0m\u001b]8;id=376313;file:///var/folders/36/qwv4kvgd7qgdy1b1gnkflknm0000gp/T/ipykernel_98588/2828474923.py#54\u001b\\\u001b[2m54\u001b[0m\u001b]8;;\u001b\\\n"
      ]
     },
     "metadata": {},
     "output_type": "display_data"
    },
    {
     "data": {
      "text/html": [
       "<pre style=\"white-space:pre;overflow-x:auto;line-height:normal;font-family:Menlo,'DejaVu Sans Mono',consolas,'Courier New',monospace\"><span style=\"color: #7fbfbf; text-decoration-color: #7fbfbf\">           </span><span style=\"color: #000080; text-decoration-color: #000080\">INFO    </span> Ending: experiment-<span style=\"color: #008080; text-decoration-color: #008080; font-weight: bold\">4</span>                                                           <a href=\"file:///var/folders/36/qwv4kvgd7qgdy1b1gnkflknm0000gp/T/ipykernel_98588/2828474923.py\" target=\"_blank\"><span style=\"color: #7f7f7f; text-decoration-color: #7f7f7f\">2828474923.py</span></a><span style=\"color: #7f7f7f; text-decoration-color: #7f7f7f\">:</span><a href=\"file:///var/folders/36/qwv4kvgd7qgdy1b1gnkflknm0000gp/T/ipykernel_98588/2828474923.py#99\" target=\"_blank\"><span style=\"color: #7f7f7f; text-decoration-color: #7f7f7f\">99</span></a>\n",
       "<span style=\"color: #7fbfbf; text-decoration-color: #7fbfbf\">           </span>                                                                                        <span style=\"color: #7f7f7f; text-decoration-color: #7f7f7f\">                </span>\n",
       "</pre>\n"
      ],
      "text/plain": [
       "\u001b[2;36m          \u001b[0m\u001b[2;36m \u001b[0m\u001b[34mINFO    \u001b[0m Ending: experiment-\u001b[1;36m4\u001b[0m                                                           \u001b]8;id=310113;file:///var/folders/36/qwv4kvgd7qgdy1b1gnkflknm0000gp/T/ipykernel_98588/2828474923.py\u001b\\\u001b[2m2828474923.py\u001b[0m\u001b]8;;\u001b\\\u001b[2m:\u001b[0m\u001b]8;id=413625;file:///var/folders/36/qwv4kvgd7qgdy1b1gnkflknm0000gp/T/ipykernel_98588/2828474923.py#99\u001b\\\u001b[2m99\u001b[0m\u001b]8;;\u001b\\\n",
       "\u001b[2;36m           \u001b[0m                                                                                        \u001b[2m                \u001b[0m\n"
      ]
     },
     "metadata": {},
     "output_type": "display_data"
    },
    {
     "data": {
      "text/html": [
       "<pre style=\"white-space:pre;overflow-x:auto;line-height:normal;font-family:Menlo,'DejaVu Sans Mono',consolas,'Courier New',monospace\"><span style=\"color: #7fbfbf; text-decoration-color: #7fbfbf\">           </span><span style=\"color: #000080; text-decoration-color: #000080\">INFO    </span> Starting: experiment-<span style=\"color: #008080; text-decoration-color: #008080; font-weight: bold\">5</span>                                                         <a href=\"file:///var/folders/36/qwv4kvgd7qgdy1b1gnkflknm0000gp/T/ipykernel_98588/2828474923.py\" target=\"_blank\"><span style=\"color: #7f7f7f; text-decoration-color: #7f7f7f\">2828474923.py</span></a><span style=\"color: #7f7f7f; text-decoration-color: #7f7f7f\">:</span><a href=\"file:///var/folders/36/qwv4kvgd7qgdy1b1gnkflknm0000gp/T/ipykernel_98588/2828474923.py#86\" target=\"_blank\"><span style=\"color: #7f7f7f; text-decoration-color: #7f7f7f\">86</span></a>\n",
       "</pre>\n"
      ],
      "text/plain": [
       "\u001b[2;36m          \u001b[0m\u001b[2;36m \u001b[0m\u001b[34mINFO    \u001b[0m Starting: experiment-\u001b[1;36m5\u001b[0m                                                         \u001b]8;id=759848;file:///var/folders/36/qwv4kvgd7qgdy1b1gnkflknm0000gp/T/ipykernel_98588/2828474923.py\u001b\\\u001b[2m2828474923.py\u001b[0m\u001b]8;;\u001b\\\u001b[2m:\u001b[0m\u001b]8;id=377033;file:///var/folders/36/qwv4kvgd7qgdy1b1gnkflknm0000gp/T/ipykernel_98588/2828474923.py#86\u001b\\\u001b[2m86\u001b[0m\u001b]8;;\u001b\\\n"
      ]
     },
     "metadata": {},
     "output_type": "display_data"
    },
    {
     "data": {
      "text/html": [
       "<pre style=\"white-space:pre;overflow-x:auto;line-height:normal;font-family:Menlo,'DejaVu Sans Mono',consolas,'Courier New',monospace\"><span style=\"color: #7fbfbf; text-decoration-color: #7fbfbf\">           </span><span style=\"color: #000080; text-decoration-color: #000080\">INFO    </span> Training on features: <span style=\"font-weight: bold\">[</span><span style=\"color: #008000; text-decoration-color: #008000\">'HighBP'</span>, <span style=\"color: #008000; text-decoration-color: #008000\">'GenHlth'</span>, <span style=\"color: #008000; text-decoration-color: #008000\">'HighChol'</span>, <span style=\"color: #008000; text-decoration-color: #008000\">'BMI'</span>, <span style=\"color: #008000; text-decoration-color: #008000\">'Age'</span><span style=\"font-weight: bold\">]</span>          <a href=\"file:///var/folders/36/qwv4kvgd7qgdy1b1gnkflknm0000gp/T/ipykernel_98588/2828474923.py\" target=\"_blank\"><span style=\"color: #7f7f7f; text-decoration-color: #7f7f7f\">2828474923.py</span></a><span style=\"color: #7f7f7f; text-decoration-color: #7f7f7f\">:</span><a href=\"file:///var/folders/36/qwv4kvgd7qgdy1b1gnkflknm0000gp/T/ipykernel_98588/2828474923.py#88\" target=\"_blank\"><span style=\"color: #7f7f7f; text-decoration-color: #7f7f7f\">88</span></a>\n",
       "</pre>\n"
      ],
      "text/plain": [
       "\u001b[2;36m          \u001b[0m\u001b[2;36m \u001b[0m\u001b[34mINFO    \u001b[0m Training on features: \u001b[1m[\u001b[0m\u001b[32m'HighBP'\u001b[0m, \u001b[32m'GenHlth'\u001b[0m, \u001b[32m'HighChol'\u001b[0m, \u001b[32m'BMI'\u001b[0m, \u001b[32m'Age'\u001b[0m\u001b[1m]\u001b[0m          \u001b]8;id=100091;file:///var/folders/36/qwv4kvgd7qgdy1b1gnkflknm0000gp/T/ipykernel_98588/2828474923.py\u001b\\\u001b[2m2828474923.py\u001b[0m\u001b]8;;\u001b\\\u001b[2m:\u001b[0m\u001b]8;id=655780;file:///var/folders/36/qwv4kvgd7qgdy1b1gnkflknm0000gp/T/ipykernel_98588/2828474923.py#88\u001b\\\u001b[2m88\u001b[0m\u001b]8;;\u001b\\\n"
      ]
     },
     "metadata": {},
     "output_type": "display_data"
    },
    {
     "name": "stdout",
     "output_type": "stream",
     "text": [
      "AutoML directory: experiment-5\n",
      "The task is binary_classification with evaluation metric accuracy\n",
      "AutoML will use algorithms: ['Baseline', 'Decision Tree', 'Extra Trees', 'LightGBM', 'CatBoost', 'Neural Network']\n",
      "AutoML steps: ['simple_algorithms', 'default_algorithms', 'golden_features', 'insert_random_feature', 'features_selection', 'hill_climbing_1', 'hill_climbing_2']\n",
      "* Step simple_algorithms will try to check up to 2 models\n",
      "1_Baseline accuracy 0.500729 trained in 17.21 seconds (1-sample predict time 0.0198 seconds)\n",
      "2_DecisionTree accuracy 0.727996 trained in 54.93 seconds (1-sample predict time 0.0175 seconds)\n",
      "* Step default_algorithms will try to check up to 4 models\n",
      "3_Default_LightGBM accuracy 0.745878 trained in 25.05 seconds (1-sample predict time 0.0172 seconds)\n",
      "4_Default_CatBoost accuracy 0.747513 trained in 21.11 seconds (1-sample predict time 0.0173 seconds)\n",
      "5_Default_NeuralNetwork accuracy 0.744109 trained in 69.97 seconds (1-sample predict time 0.0294 seconds)\n",
      "Skip golden_features because of the time limit.\n",
      "Not enough time to perform features selection. Skip\n",
      "Time needed for features selection ~ 72.0 seconds\n",
      "Please increase total_time_limit to at least (778 seconds) to have features selection\n",
      "Skip insert_random_feature because no parameters were generated.\n",
      "Skip features_selection because no parameters were generated.\n",
      "* Step hill_climbing_1 will try to check up to 6 models\n",
      "6_CatBoost accuracy 0.74716 trained in 20.65 seconds (1-sample predict time 0.0166 seconds)\n",
      "7_CatBoost accuracy 0.747138 trained in 20.02 seconds (1-sample predict time 0.0217 seconds)\n",
      "8_LightGBM accuracy 0.746475 trained in 23.57 seconds (1-sample predict time 0.0173 seconds)\n",
      "* Step hill_climbing_2 will try to check up to 9 models\n",
      "9_CatBoost accuracy 0.747535 trained in 19.77 seconds (1-sample predict time 0.0165 seconds)\n",
      "10_CatBoost accuracy 0.747138 trained in 20.73 seconds (1-sample predict time 0.024 seconds)\n",
      "AutoML fit time: 312.3 seconds\n",
      "AutoML best model: 9_CatBoost\n"
     ]
    },
    {
     "data": {
      "text/html": [
       "<pre style=\"white-space:pre;overflow-x:auto;line-height:normal;font-family:Menlo,'DejaVu Sans Mono',consolas,'Courier New',monospace\"><span style=\"color: #7fbfbf; text-decoration-color: #7fbfbf\">[15:58:39] </span><span style=\"color: #000080; text-decoration-color: #000080\">INFO    </span> Best model accuracy_score on valid set: <span style=\"color: #008080; text-decoration-color: #008080; font-weight: bold\">0.743</span>                                  <a href=\"file:///var/folders/36/qwv4kvgd7qgdy1b1gnkflknm0000gp/T/ipykernel_98588/2828474923.py\" target=\"_blank\"><span style=\"color: #7f7f7f; text-decoration-color: #7f7f7f\">2828474923.py</span></a><span style=\"color: #7f7f7f; text-decoration-color: #7f7f7f\">:</span><a href=\"file:///var/folders/36/qwv4kvgd7qgdy1b1gnkflknm0000gp/T/ipykernel_98588/2828474923.py#54\" target=\"_blank\"><span style=\"color: #7f7f7f; text-decoration-color: #7f7f7f\">54</span></a>\n",
       "</pre>\n"
      ],
      "text/plain": [
       "\u001b[2;36m[15:58:39]\u001b[0m\u001b[2;36m \u001b[0m\u001b[34mINFO    \u001b[0m Best model accuracy_score on valid set: \u001b[1;36m0.743\u001b[0m                                  \u001b]8;id=729196;file:///var/folders/36/qwv4kvgd7qgdy1b1gnkflknm0000gp/T/ipykernel_98588/2828474923.py\u001b\\\u001b[2m2828474923.py\u001b[0m\u001b]8;;\u001b\\\u001b[2m:\u001b[0m\u001b]8;id=837759;file:///var/folders/36/qwv4kvgd7qgdy1b1gnkflknm0000gp/T/ipykernel_98588/2828474923.py#54\u001b\\\u001b[2m54\u001b[0m\u001b]8;;\u001b\\\n"
      ]
     },
     "metadata": {},
     "output_type": "display_data"
    },
    {
     "data": {
      "text/html": [
       "<pre style=\"white-space:pre;overflow-x:auto;line-height:normal;font-family:Menlo,'DejaVu Sans Mono',consolas,'Courier New',monospace\"><span style=\"color: #7fbfbf; text-decoration-color: #7fbfbf\">           </span><span style=\"color: #000080; text-decoration-color: #000080\">INFO    </span> Ending: experiment-<span style=\"color: #008080; text-decoration-color: #008080; font-weight: bold\">5</span>                                                           <a href=\"file:///var/folders/36/qwv4kvgd7qgdy1b1gnkflknm0000gp/T/ipykernel_98588/2828474923.py\" target=\"_blank\"><span style=\"color: #7f7f7f; text-decoration-color: #7f7f7f\">2828474923.py</span></a><span style=\"color: #7f7f7f; text-decoration-color: #7f7f7f\">:</span><a href=\"file:///var/folders/36/qwv4kvgd7qgdy1b1gnkflknm0000gp/T/ipykernel_98588/2828474923.py#99\" target=\"_blank\"><span style=\"color: #7f7f7f; text-decoration-color: #7f7f7f\">99</span></a>\n",
       "<span style=\"color: #7fbfbf; text-decoration-color: #7fbfbf\">           </span>                                                                                        <span style=\"color: #7f7f7f; text-decoration-color: #7f7f7f\">                </span>\n",
       "</pre>\n"
      ],
      "text/plain": [
       "\u001b[2;36m          \u001b[0m\u001b[2;36m \u001b[0m\u001b[34mINFO    \u001b[0m Ending: experiment-\u001b[1;36m5\u001b[0m                                                           \u001b]8;id=207607;file:///var/folders/36/qwv4kvgd7qgdy1b1gnkflknm0000gp/T/ipykernel_98588/2828474923.py\u001b\\\u001b[2m2828474923.py\u001b[0m\u001b]8;;\u001b\\\u001b[2m:\u001b[0m\u001b]8;id=700707;file:///var/folders/36/qwv4kvgd7qgdy1b1gnkflknm0000gp/T/ipykernel_98588/2828474923.py#99\u001b\\\u001b[2m99\u001b[0m\u001b]8;;\u001b\\\n",
       "\u001b[2;36m           \u001b[0m                                                                                        \u001b[2m                \u001b[0m\n"
      ]
     },
     "metadata": {},
     "output_type": "display_data"
    },
    {
     "data": {
      "text/html": [
       "<pre style=\"white-space:pre;overflow-x:auto;line-height:normal;font-family:Menlo,'DejaVu Sans Mono',consolas,'Courier New',monospace\"><span style=\"color: #7fbfbf; text-decoration-color: #7fbfbf\">           </span><span style=\"color: #000080; text-decoration-color: #000080\">INFO    </span> Starting: experiment-<span style=\"color: #008080; text-decoration-color: #008080; font-weight: bold\">6</span>                                                         <a href=\"file:///var/folders/36/qwv4kvgd7qgdy1b1gnkflknm0000gp/T/ipykernel_98588/2828474923.py\" target=\"_blank\"><span style=\"color: #7f7f7f; text-decoration-color: #7f7f7f\">2828474923.py</span></a><span style=\"color: #7f7f7f; text-decoration-color: #7f7f7f\">:</span><a href=\"file:///var/folders/36/qwv4kvgd7qgdy1b1gnkflknm0000gp/T/ipykernel_98588/2828474923.py#86\" target=\"_blank\"><span style=\"color: #7f7f7f; text-decoration-color: #7f7f7f\">86</span></a>\n",
       "</pre>\n"
      ],
      "text/plain": [
       "\u001b[2;36m          \u001b[0m\u001b[2;36m \u001b[0m\u001b[34mINFO    \u001b[0m Starting: experiment-\u001b[1;36m6\u001b[0m                                                         \u001b]8;id=234278;file:///var/folders/36/qwv4kvgd7qgdy1b1gnkflknm0000gp/T/ipykernel_98588/2828474923.py\u001b\\\u001b[2m2828474923.py\u001b[0m\u001b]8;;\u001b\\\u001b[2m:\u001b[0m\u001b]8;id=15312;file:///var/folders/36/qwv4kvgd7qgdy1b1gnkflknm0000gp/T/ipykernel_98588/2828474923.py#86\u001b\\\u001b[2m86\u001b[0m\u001b]8;;\u001b\\\n"
      ]
     },
     "metadata": {},
     "output_type": "display_data"
    },
    {
     "data": {
      "text/html": [
       "<pre style=\"white-space:pre;overflow-x:auto;line-height:normal;font-family:Menlo,'DejaVu Sans Mono',consolas,'Courier New',monospace\"><span style=\"color: #7fbfbf; text-decoration-color: #7fbfbf\">           </span><span style=\"color: #000080; text-decoration-color: #000080\">INFO    </span> Training on features: <span style=\"font-weight: bold\">[</span><span style=\"color: #008000; text-decoration-color: #008000\">'HighBP'</span>, <span style=\"color: #008000; text-decoration-color: #008000\">'GenHlth'</span>, <span style=\"color: #008000; text-decoration-color: #008000\">'HighChol'</span>, <span style=\"color: #008000; text-decoration-color: #008000\">'BMI'</span>, <span style=\"color: #008000; text-decoration-color: #008000\">'Age'</span>,          <a href=\"file:///var/folders/36/qwv4kvgd7qgdy1b1gnkflknm0000gp/T/ipykernel_98588/2828474923.py\" target=\"_blank\"><span style=\"color: #7f7f7f; text-decoration-color: #7f7f7f\">2828474923.py</span></a><span style=\"color: #7f7f7f; text-decoration-color: #7f7f7f\">:</span><a href=\"file:///var/folders/36/qwv4kvgd7qgdy1b1gnkflknm0000gp/T/ipykernel_98588/2828474923.py#88\" target=\"_blank\"><span style=\"color: #7f7f7f; text-decoration-color: #7f7f7f\">88</span></a>\n",
       "<span style=\"color: #7fbfbf; text-decoration-color: #7fbfbf\">           </span>         <span style=\"color: #008000; text-decoration-color: #008000\">'Income'</span><span style=\"font-weight: bold\">]</span>                                                                      <span style=\"color: #7f7f7f; text-decoration-color: #7f7f7f\">                </span>\n",
       "</pre>\n"
      ],
      "text/plain": [
       "\u001b[2;36m          \u001b[0m\u001b[2;36m \u001b[0m\u001b[34mINFO    \u001b[0m Training on features: \u001b[1m[\u001b[0m\u001b[32m'HighBP'\u001b[0m, \u001b[32m'GenHlth'\u001b[0m, \u001b[32m'HighChol'\u001b[0m, \u001b[32m'BMI'\u001b[0m, \u001b[32m'Age'\u001b[0m,          \u001b]8;id=88144;file:///var/folders/36/qwv4kvgd7qgdy1b1gnkflknm0000gp/T/ipykernel_98588/2828474923.py\u001b\\\u001b[2m2828474923.py\u001b[0m\u001b]8;;\u001b\\\u001b[2m:\u001b[0m\u001b]8;id=324381;file:///var/folders/36/qwv4kvgd7qgdy1b1gnkflknm0000gp/T/ipykernel_98588/2828474923.py#88\u001b\\\u001b[2m88\u001b[0m\u001b]8;;\u001b\\\n",
       "\u001b[2;36m           \u001b[0m         \u001b[32m'Income'\u001b[0m\u001b[1m]\u001b[0m                                                                      \u001b[2m                \u001b[0m\n"
      ]
     },
     "metadata": {},
     "output_type": "display_data"
    },
    {
     "name": "stdout",
     "output_type": "stream",
     "text": [
      "AutoML directory: experiment-6\n",
      "The task is binary_classification with evaluation metric accuracy\n",
      "AutoML will use algorithms: ['Baseline', 'Decision Tree', 'Extra Trees', 'LightGBM', 'CatBoost', 'Neural Network']\n",
      "AutoML steps: ['simple_algorithms', 'default_algorithms', 'golden_features', 'insert_random_feature', 'features_selection', 'hill_climbing_1', 'hill_climbing_2']\n",
      "* Step simple_algorithms will try to check up to 2 models\n",
      "1_Baseline accuracy 0.500729 trained in 17.57 seconds (1-sample predict time 0.0173 seconds)\n",
      "2_DecisionTree accuracy 0.727996 trained in 55.44 seconds (1-sample predict time 0.0195 seconds)\n",
      "* Step default_algorithms will try to check up to 4 models\n",
      "3_Default_LightGBM accuracy 0.748 trained in 25.45 seconds (1-sample predict time 0.0181 seconds)\n",
      "4_Default_CatBoost accuracy 0.748619 trained in 21.52 seconds (1-sample predict time 0.0201 seconds)\n",
      "5_Default_NeuralNetwork accuracy 0.747005 trained in 78.07 seconds (1-sample predict time 0.0368 seconds)\n",
      "Skip golden_features because of the time limit.\n",
      "Not enough time to perform features selection. Skip\n",
      "Time needed for features selection ~ 73.0 seconds\n",
      "Please increase total_time_limit to at least (789 seconds) to have features selection\n",
      "Skip insert_random_feature because no parameters were generated.\n",
      "Skip features_selection because no parameters were generated.\n",
      "* Step hill_climbing_1 will try to check up to 6 models\n",
      "6_CatBoost accuracy 0.748817 trained in 23.47 seconds (1-sample predict time 0.0198 seconds)\n",
      "7_CatBoost accuracy 0.74884 trained in 22.0 seconds (1-sample predict time 0.0173 seconds)\n",
      "* Step hill_climbing_2 will try to check up to 6 models\n",
      "8_CatBoost accuracy 0.747535 trained in 22.76 seconds (1-sample predict time 0.0213 seconds)\n",
      "9_LightGBM accuracy 0.748 trained in 27.48 seconds (1-sample predict time 0.0223 seconds)\n",
      "AutoML fit time: 311.29 seconds\n",
      "AutoML best model: 7_CatBoost\n"
     ]
    },
    {
     "data": {
      "text/html": [
       "<pre style=\"white-space:pre;overflow-x:auto;line-height:normal;font-family:Menlo,'DejaVu Sans Mono',consolas,'Courier New',monospace\"><span style=\"color: #7fbfbf; text-decoration-color: #7fbfbf\">[16:03:50] </span><span style=\"color: #000080; text-decoration-color: #000080\">INFO    </span> Best model accuracy_score on valid set: <span style=\"color: #008080; text-decoration-color: #008080; font-weight: bold\">0.744</span>                                  <a href=\"file:///var/folders/36/qwv4kvgd7qgdy1b1gnkflknm0000gp/T/ipykernel_98588/2828474923.py\" target=\"_blank\"><span style=\"color: #7f7f7f; text-decoration-color: #7f7f7f\">2828474923.py</span></a><span style=\"color: #7f7f7f; text-decoration-color: #7f7f7f\">:</span><a href=\"file:///var/folders/36/qwv4kvgd7qgdy1b1gnkflknm0000gp/T/ipykernel_98588/2828474923.py#54\" target=\"_blank\"><span style=\"color: #7f7f7f; text-decoration-color: #7f7f7f\">54</span></a>\n",
       "</pre>\n"
      ],
      "text/plain": [
       "\u001b[2;36m[16:03:50]\u001b[0m\u001b[2;36m \u001b[0m\u001b[34mINFO    \u001b[0m Best model accuracy_score on valid set: \u001b[1;36m0.744\u001b[0m                                  \u001b]8;id=863733;file:///var/folders/36/qwv4kvgd7qgdy1b1gnkflknm0000gp/T/ipykernel_98588/2828474923.py\u001b\\\u001b[2m2828474923.py\u001b[0m\u001b]8;;\u001b\\\u001b[2m:\u001b[0m\u001b]8;id=456865;file:///var/folders/36/qwv4kvgd7qgdy1b1gnkflknm0000gp/T/ipykernel_98588/2828474923.py#54\u001b\\\u001b[2m54\u001b[0m\u001b]8;;\u001b\\\n"
      ]
     },
     "metadata": {},
     "output_type": "display_data"
    },
    {
     "data": {
      "text/html": [
       "<pre style=\"white-space:pre;overflow-x:auto;line-height:normal;font-family:Menlo,'DejaVu Sans Mono',consolas,'Courier New',monospace\"><span style=\"color: #7fbfbf; text-decoration-color: #7fbfbf\">           </span><span style=\"color: #000080; text-decoration-color: #000080\">INFO    </span> Ending: experiment-<span style=\"color: #008080; text-decoration-color: #008080; font-weight: bold\">6</span>                                                           <a href=\"file:///var/folders/36/qwv4kvgd7qgdy1b1gnkflknm0000gp/T/ipykernel_98588/2828474923.py\" target=\"_blank\"><span style=\"color: #7f7f7f; text-decoration-color: #7f7f7f\">2828474923.py</span></a><span style=\"color: #7f7f7f; text-decoration-color: #7f7f7f\">:</span><a href=\"file:///var/folders/36/qwv4kvgd7qgdy1b1gnkflknm0000gp/T/ipykernel_98588/2828474923.py#99\" target=\"_blank\"><span style=\"color: #7f7f7f; text-decoration-color: #7f7f7f\">99</span></a>\n",
       "<span style=\"color: #7fbfbf; text-decoration-color: #7fbfbf\">           </span>                                                                                        <span style=\"color: #7f7f7f; text-decoration-color: #7f7f7f\">                </span>\n",
       "</pre>\n"
      ],
      "text/plain": [
       "\u001b[2;36m          \u001b[0m\u001b[2;36m \u001b[0m\u001b[34mINFO    \u001b[0m Ending: experiment-\u001b[1;36m6\u001b[0m                                                           \u001b]8;id=544628;file:///var/folders/36/qwv4kvgd7qgdy1b1gnkflknm0000gp/T/ipykernel_98588/2828474923.py\u001b\\\u001b[2m2828474923.py\u001b[0m\u001b]8;;\u001b\\\u001b[2m:\u001b[0m\u001b]8;id=840886;file:///var/folders/36/qwv4kvgd7qgdy1b1gnkflknm0000gp/T/ipykernel_98588/2828474923.py#99\u001b\\\u001b[2m99\u001b[0m\u001b]8;;\u001b\\\n",
       "\u001b[2;36m           \u001b[0m                                                                                        \u001b[2m                \u001b[0m\n"
      ]
     },
     "metadata": {},
     "output_type": "display_data"
    }
   ],
   "source": [
    "# Let's run the experiments.\n",
    "# Grab a coffee since this will take some time.\n",
    "best_models = experiment_pipeline(\n",
    "    name=\"experiment\",\n",
    "    target_column=\"Diabetes_binary\",\n",
    "    sorted_columns=[\"HighBP\", \"GenHlth\", \"HighChol\", \"BMI\", \"Age\", \"Income\"],\n",
    "    random_search_iterations=1,\n",
    "    max_total_time=300,\n",
    "    frame=df,\n",
    ")"
   ]
  },
  {
   "cell_type": "code",
   "execution_count": 9,
   "metadata": {},
   "outputs": [
    {
     "data": {
      "text/html": [
       "<pre style=\"white-space:pre;overflow-x:auto;line-height:normal;font-family:Menlo,'DejaVu Sans Mono',consolas,'Courier New',monospace\"><span style=\"color: #7fbfbf; text-decoration-color: #7fbfbf\">[16:19:29] </span><span style=\"color: #000080; text-decoration-color: #000080\">INFO    </span> Best model accuracy score on test set: <span style=\"color: #008080; text-decoration-color: #008080; font-weight: bold\">0.749</span>                                    <a href=\"file:///var/folders/36/qwv4kvgd7qgdy1b1gnkflknm0000gp/T/ipykernel_98588/2628341661.py\" target=\"_blank\"><span style=\"color: #7f7f7f; text-decoration-color: #7f7f7f\">2628341661.py</span></a><span style=\"color: #7f7f7f; text-decoration-color: #7f7f7f\">:</span><a href=\"file:///var/folders/36/qwv4kvgd7qgdy1b1gnkflknm0000gp/T/ipykernel_98588/2628341661.py#9\" target=\"_blank\"><span style=\"color: #7f7f7f; text-decoration-color: #7f7f7f\">9</span></a>\n",
       "</pre>\n"
      ],
      "text/plain": [
       "\u001b[2;36m[16:19:29]\u001b[0m\u001b[2;36m \u001b[0m\u001b[34mINFO    \u001b[0m Best model accuracy score on test set: \u001b[1;36m0.749\u001b[0m                                    \u001b]8;id=6566;file:///var/folders/36/qwv4kvgd7qgdy1b1gnkflknm0000gp/T/ipykernel_98588/2628341661.py\u001b\\\u001b[2m2628341661.py\u001b[0m\u001b]8;;\u001b\\\u001b[2m:\u001b[0m\u001b]8;id=360262;file:///var/folders/36/qwv4kvgd7qgdy1b1gnkflknm0000gp/T/ipykernel_98588/2628341661.py#9\u001b\\\u001b[2m9\u001b[0m\u001b]8;;\u001b\\\n"
      ]
     },
     "metadata": {},
     "output_type": "display_data"
    }
   ],
   "source": [
    "datapath_test = \"../data/train/diabetes_binary_test.csv.zip\"\n",
    "df_test = pd.read_csv(datapath, compression=\"zip\")\n",
    "target_column = \"Diabetes_binary\"\n",
    "train_columns = list(df.columns)\n",
    "train_columns.remove(target_column)\n",
    "X_test, y_test = df_test[train_columns], df_test[target_column]\n",
    "\n",
    "predictions = best_models[-1].predict(X_test)\n",
    "log.info(\n",
    "    f\"Best model accuracy score on test set: {accuracy_score(y_test,predictions):.3f}\"\n",
    ")"
   ]
  },
  {
   "cell_type": "markdown",
   "metadata": {},
   "source": [
    "# Watermark\n",
    "\n",
    "This should be the last section of your notebook, since it watermarks all your environment.\n",
    "\n",
    "When commiting this notebook, remember to restart the kernel, rerun the notebook and run this cell last, to watermark the environment."
   ]
  },
  {
   "cell_type": "code",
   "execution_count": 10,
   "metadata": {},
   "outputs": [
    {
     "name": "stdout",
     "output_type": "stream",
     "text": [
      "Python implementation: CPython\n",
      "Python version       : 3.8.13\n",
      "IPython version      : 8.5.0\n",
      "\n",
      "Compiler    : Clang 12.0.1 \n",
      "OS          : Darwin\n",
      "Release     : 21.6.0\n",
      "Machine     : x86_64\n",
      "Processor   : i386\n",
      "CPU cores   : 12\n",
      "Architecture: 64bit\n",
      "\n",
      "Git hash: e97b29b94dd8f03e671866246316a00340217f3b\n",
      "\n",
      "Git branch: main\n",
      "\n",
      "sys    : 3.8.13 | packaged by conda-forge | (default, Mar 25 2022, 06:06:49) \n",
      "[Clang 12.0.1 ]\n",
      "pandas : 1.4.3\n",
      "logging: 0.5.1.2\n",
      "\n"
     ]
    }
   ],
   "source": [
    "%watermark -gb -iv -m -v"
   ]
  }
 ],
 "metadata": {
  "kernelspec": {
   "display_name": "Python 3.8.13 ('ml_automl')",
   "language": "python",
   "name": "python3"
  },
  "language_info": {
   "codemirror_mode": {
    "name": "ipython",
    "version": 3
   },
   "file_extension": ".py",
   "mimetype": "text/x-python",
   "name": "python",
   "nbconvert_exporter": "python",
   "pygments_lexer": "ipython3",
   "version": "3.8.13"
  },
  "vscode": {
   "interpreter": {
    "hash": "fc29e3cf0988d071a972b3d784b67eb2dc4190413be0b229c97e65f78ba8c81b"
   }
  }
 },
 "nbformat": 4,
 "nbformat_minor": 2
}
