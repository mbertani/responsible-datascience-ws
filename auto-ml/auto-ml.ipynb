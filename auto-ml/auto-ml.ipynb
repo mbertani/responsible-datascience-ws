{
 "cells": [
  {
   "cell_type": "markdown",
   "metadata": {},
   "source": [
    "# *[Using AutoML as a start point]*\n",
    "\n",
    "**Author:** [Marco Bertani-Økland](https://github.com/mbertani)\n",
    "\n",
    "**Achievement:** Illustrate the use of AutoML as a starting point to explore different algorithms.\n",
    "\n",
    "## Introduction\n",
    "\n",
    "This notebook is based on [https://supervised.mljar.com/](https://supervised.mljar.com/).\n",
    "\n",
    "Run the notebook and check the results produced under the folder `results_diabetes`. \n",
    "\n",
    "Requirements:\n",
    "\n",
    "1. You must run `make venv` to verify that all packages are installed.\n",
    "2. You must have downloaded the [diabetes dataset](https://www.kaggle.com/datasets/alexteboul/diabetes-health-indicators-dataset) into the folder `NBD_22_workshop`."
   ]
  },
  {
   "cell_type": "markdown",
   "metadata": {},
   "source": [
    "# Reproducibility and code formatting"
   ]
  },
  {
   "cell_type": "code",
   "execution_count": null,
   "metadata": {},
   "outputs": [],
   "source": [
    "# To watermark the environment\n",
    "%load_ext watermark\n",
    "\n",
    "# For automatic code formatting in jupyter lab.\n",
    "%load_ext lab_black\n",
    "\n",
    "# For automatic code formatting in jupyter notebook\n",
    "%load_ext nb_black\n",
    "\n",
    "# For better logging\n",
    "%load_ext rich"
   ]
  },
  {
   "cell_type": "markdown",
   "metadata": {},
   "source": [
    "# Analysis"
   ]
  },
  {
   "cell_type": "code",
   "execution_count": null,
   "metadata": {},
   "outputs": [],
   "source": [
    "# Imports\n",
    "# -------\n",
    "\n",
    "# System\n",
    "import sys\n",
    "\n",
    "# Logging\n",
    "import logging\n",
    "\n",
    "# Rich logging in jupyter\n",
    "from rich.logging import RichHandler\n",
    "\n",
    "FORMAT = \"%(message)s\"\n",
    "logging.basicConfig(\n",
    "    level=\"INFO\", format=FORMAT, datefmt=\"[%X]\", handlers=[RichHandler()]\n",
    ")\n",
    "\n",
    "log = logging.getLogger(\"rich\")\n",
    "\n",
    "# Nice logging example:\n",
    "# log.error(\"[bold red blink]Server is shutting down![/]\", extra={\"markup\": True})\n",
    "\n",
    "\n",
    "# Other packages\n",
    "import pandas as pd\n",
    "from sklearn.model_selection import train_test_split\n",
    "from supervised.automl import AutoML\n",
    "from sklearn.metrics import accuracy_score\n",
    "\n",
    "RANDOM_SEED = 42"
   ]
  },
  {
   "cell_type": "code",
   "execution_count": null,
   "metadata": {},
   "outputs": [],
   "source": [
    "datapath = \"../data/train/diabetes_binary_train.csv.zip\"\n",
    "df = pd.read_csv(datapath, compression=\"zip\")"
   ]
  },
  {
   "cell_type": "code",
   "execution_count": null,
   "metadata": {},
   "outputs": [],
   "source": [
    "target_column = \"Diabetes_binary\"\n",
    "train_columns = list(df.columns)\n",
    "train_columns.remove(target_column)\n",
    "\n",
    "X_train, X_valid, y_train, y_valid = train_test_split(\n",
    "    df[train_columns], df[target_column], test_size=0.2, random_state=RANDOM_SEED\n",
    ")"
   ]
  },
  {
   "cell_type": "code",
   "execution_count": null,
   "metadata": {},
   "outputs": [],
   "source": [
    "automl = AutoML(\n",
    "    results_path=\"results_diabetes\",\n",
    "    mode=\"Explain\",\n",
    "    ml_task=\"binary_classification\",\n",
    "    algorithms=[\"LightGBM\", \"Extra Trees\", \"CatBoost\", \"Linear\", \"Neural Network\"],\n",
    "    eval_metric=\"accuracy\",\n",
    "    total_time_limit=180,\n",
    "    random_state=RANDOM_SEED,\n",
    ")\n",
    "model = automl.fit(X_train, y_train)"
   ]
  },
  {
   "cell_type": "code",
   "execution_count": null,
   "metadata": {},
   "outputs": [],
   "source": [
    "predictions = automl.predict(X_valid)\n",
    "print(\n",
    "    f\"Best model accuracy score on validation set: {accuracy_score(y_valid,predictions):.3f}\"\n",
    ")"
   ]
  },
  {
   "cell_type": "markdown",
   "metadata": {},
   "source": [
    "# Improving the experimentation"
   ]
  },
  {
   "cell_type": "code",
   "execution_count": null,
   "metadata": {},
   "outputs": [],
   "source": [
    "from typing import List\n",
    "\n",
    "\n",
    "def automl_pipeline(\n",
    "    frame: pd.DataFrame,\n",
    "    train_columns: List[str],\n",
    "    target_column: str,\n",
    "    results_path: str,\n",
    "    random_state=RANDOM_SEED,\n",
    "):\n",
    "    X_train, X_valid, y_train, y_valid = train_test_split(\n",
    "        frame[train_columns],\n",
    "        frame[target_column],\n",
    "        test_size=0.2,\n",
    "        random_state=RANDOM_SEED,\n",
    "    )\n",
    "\n",
    "    automl = AutoML(\n",
    "        results_path=results_path,\n",
    "        mode=\"Explain\",\n",
    "        ml_task=\"binary_classification\",\n",
    "        algorithms=[\"LightGBM\", \"Extra Trees\", \"CatBoost\", \"Linear\", \"Neural Network\"],\n",
    "        eval_metric=\"accuracy\",\n",
    "        total_time_limit=180,\n",
    "        random_state=RANDOM_SEED,\n",
    "    )\n",
    "\n",
    "    model = automl.fit(X_train, y_train)\n",
    "    predictions = automl.predict(X_valid)\n",
    "    log.info(\n",
    "        f\"Best model accuracy_score on valid set: {accuracy_score(y_valid,predictions):.3f}\"\n",
    "    )\n",
    "    return model\n",
    "\n",
    "\n",
    "def experiment_pipeline(\n",
    "    name: str, target_column: str, sorted_columns: List[str], frame: pd.DataFrame\n",
    "):\n",
    "    best_models = []\n",
    "    for iteration in range(1, len(sorted_columns) + 1):\n",
    "        experiment = f\"{name}-{iteration}\"\n",
    "        log.info(f\"Starting: {experiment}\")\n",
    "        train_columns = sorted_columns[0:iteration]\n",
    "        log.info(f\"Training on features: {train_columns}\")\n",
    "        automl_model = automl_pipeline(\n",
    "            frame=df,\n",
    "            train_columns=train_columns,\n",
    "            target_column=target_column,\n",
    "            results_path=experiment,\n",
    "        )\n",
    "        best_models.append(automl_model)\n",
    "\n",
    "    return best_models"
   ]
  },
  {
   "cell_type": "code",
   "execution_count": null,
   "metadata": {},
   "outputs": [],
   "source": [
    "best_models = experiment_pipeline(\n",
    "    name=\"experiment\",\n",
    "    target_column=\"Diabetes_binary\",\n",
    "    sorted_columns=[\"HighBP\", \"GenHlth\", \"HighChol\", \"BMI\", \"Age\", \"Income\"],\n",
    "    frame=df,\n",
    ")"
   ]
  },
  {
   "cell_type": "code",
   "execution_count": null,
   "metadata": {},
   "outputs": [],
   "source": [
    "datapath_test = \"../data/train/diabetes_binary_test.csv.zip\"\n",
    "df_test = pd.read_csv(datapath, compression=\"zip\")\n",
    "target_column = \"Diabetes_binary\"\n",
    "train_columns = list(df.columns)\n",
    "train_columns.remove(target_column)\n",
    "X_test, y_test = df_test[train_columns], df_test[target_column]\n",
    "\n",
    "predictions = best_models[-1].predict(X_test)\n",
    "log.info(\n",
    "    f\"Best model accuracy score on test set: {accuracy_score(y_test,predictions):.3f}\"\n",
    ")"
   ]
  },
  {
   "cell_type": "markdown",
   "metadata": {},
   "source": [
    "# Watermark\n",
    "\n",
    "This should be the last section of your notebook, since it watermarks all your environment.\n",
    "\n",
    "When commiting this notebook, remember to restart the kernel, rerun the notebook and run this cell last, to watermark the environment."
   ]
  },
  {
   "cell_type": "code",
   "execution_count": null,
   "metadata": {},
   "outputs": [],
   "source": [
    "%watermark -gb -iv -m -v"
   ]
  }
 ],
 "metadata": {
  "kernelspec": {
   "display_name": "Python 3.8.13 ('ml_automl')",
   "language": "python",
   "name": "python3"
  },
  "language_info": {
   "codemirror_mode": {
    "name": "ipython",
    "version": 3
   },
   "file_extension": ".py",
   "mimetype": "text/x-python",
   "name": "python",
   "nbconvert_exporter": "python",
   "pygments_lexer": "ipython3",
   "version": "3.8.13"
  },
  "vscode": {
   "interpreter": {
    "hash": "fc29e3cf0988d071a972b3d784b67eb2dc4190413be0b229c97e65f78ba8c81b"
   }
  }
 },
 "nbformat": 4,
 "nbformat_minor": 2
}
