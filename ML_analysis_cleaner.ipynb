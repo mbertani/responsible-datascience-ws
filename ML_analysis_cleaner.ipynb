{
 "cells": [
  {
   "cell_type": "code",
   "execution_count": 1,
   "metadata": {},
   "outputs": [],
   "source": [
    "# Import the necessary packages\n",
    "import numpy as np\n",
    "import pandas as pd\n",
    "import seaborn as sns\n",
    "from sklearn.model_selection import train_test_split\n",
    "from sklearn.ensemble import RandomForestClassifier\n",
    "from sklearn.linear_model import LogisticRegression\n",
    "from sklearn.svm import SVC\n",
    "from sklearn.metrics import confusion_matrix"
   ]
  },
  {
   "cell_type": "code",
   "execution_count": null,
   "metadata": {},
   "outputs": [],
   "source": [
    "def read_in_data(datapath: str) -> pd.DataFrame:\n",
    "    \"\"\"Read in data\n",
    "    Parameters\n",
    "    ----------\n",
    "    datapath:\n",
    "        path to the csv file where columns are\n",
    "        the attributes, rows are the observations\n",
    "    Return\n",
    "    ------\n",
    "    data_in:\n",
    "        pandas dataframe\n",
    "    \"\"\"\n",
    "    data_in = pd.read_csv(datapath)\n",
    "    return data_in"
   ]
  },
  {
   "cell_type": "code",
   "execution_count": null,
   "metadata": {},
   "outputs": [],
   "source": [
    "def select_columns(data_in: pd.DataFrame, selected_columns: list) -> pd.DataFrame:\n",
    "    \"\"\"Select a subset of the data\n",
    "    Parameters\n",
    "    ----------\n",
    "    data_in:\n",
    "        pandas table containing attributes as columns,\n",
    "        observations as rows\n",
    "    selected_columns:\n",
    "        list of strings of column names to keep\n",
    "    Return\n",
    "    ------\n",
    "    data_subset:\n",
    "        pandas table containing only the selected columns\n",
    "    \"\"\"\n",
    "    data_subset = data_in[selected_columns]\n",
    "    return data_subset"
   ]
  },
  {
   "cell_type": "code",
   "execution_count": null,
   "metadata": {},
   "outputs": [],
   "source": [
    "def visualize_data(data_in: pd.DataFrame, y_ID: str) -> None:\n",
    "    \"\"\"Visualize a dataset\n",
    "    Parameters\n",
    "    ----------\n",
    "    data_in:\n",
    "        pandas table containing attributes as columns,\n",
    "        observations as rows\n",
    "    y_ID:\n",
    "        name of the column used as outcome\n",
    "    \"\"\"\n",
    "    data_gridplot = sns.PairGrid(data_in, hue=y_ID)\n",
    "    data_gridplot.map_diag(sns.kdeplot)\n",
    "    data_gridplot.map_offdiag(sns.kdeplot)\n",
    "    data_gridplot.add_legend()\n",
    "    return"
   ]
  },
  {
   "cell_type": "code",
   "execution_count": null,
   "metadata": {},
   "outputs": [],
   "source": [
    "def create_x_y_arrays(data_in: pd.DataFrame, y_ID: str) -> tuple:\n",
    "    \"\"\"Split the predictors and the outcome\n",
    "    Parameters\n",
    "    ----------\n",
    "    data_in:\n",
    "        pandas table containing attributes as columns,\n",
    "        observations as rows\n",
    "    y_ID:\n",
    "        name of the column used as outcome\n",
    "    Return\n",
    "    ------\n",
    "    X:\n",
    "        pandas.DataFrame of the predicting attributes as columns,\n",
    "        observations as rows\n",
    "    y:\n",
    "        pandas.DataFrame of the outcome attribute as column,\n",
    "        observations as rows\n",
    "    \"\"\"\n",
    "    y = data_in[y_ID]\n",
    "    X = data_in.drop(y_ID, axis=1)\n",
    "    return X, y"
   ]
  },
  {
   "cell_type": "code",
   "execution_count": null,
   "metadata": {},
   "outputs": [],
   "source": [
    "def plot_evaluation_result(confusion_matrix:np.ndarray) -> None:\n",
    "    \"\"\"Plot confusion matrix\n",
    "    Parameters\n",
    "    ----------\n",
    "    confusion_matrix:\n",
    "        2D array of a confusion matrix of 2 classes (Positive, Negative) \n",
    "    \"\"\"\n",
    "    group_names = [\"True Neg\",\"False Pos\",\"False Neg\",\"True Pos\"]\n",
    "    group_percentages = [\"{0:.2%}\".format(value) for value in\n",
    "                        confusion_matrix.flatten()/np.sum(confusion_matrix)]\n",
    "    labels = [f\"{v1}\\n{v2}\" for v1, v2 in\n",
    "            zip(group_names,group_percentages)]\n",
    "    labels = np.asarray(labels).reshape(2,2)\n",
    "    sns.heatmap(confusion_matrix, annot=labels, fmt='', cmap='Blues')"
   ]
  }
 ],
 "metadata": {
  "kernelspec": {
   "display_name": "Python 3.10.4 ('ML_workshop')",
   "language": "python",
   "name": "python3"
  },
  "language_info": {
   "name": "python",
   "version": "3.10.4"
  },
  "orig_nbformat": 4,
  "vscode": {
   "interpreter": {
    "hash": "318bfb2fe520d238d5854af6047b3c00cef011de83d33fb8136eb627b9f3af33"
   }
  }
 },
 "nbformat": 4,
 "nbformat_minor": 2
}
